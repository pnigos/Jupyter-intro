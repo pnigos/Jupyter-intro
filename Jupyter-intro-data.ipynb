{
 "cells": [
  {
   "cell_type": "markdown",
   "metadata": {},
   "source": [
    "# This notebook prepares the primary data sets and visits some tips and techniques along the way"
   ]
  },
  {
   "cell_type": "code",
   "execution_count": 1,
   "metadata": {},
   "outputs": [],
   "source": [
    "import pandas as pd\n",
    "import os\n",
    "import matplotlib"
   ]
  },
  {
   "cell_type": "markdown",
   "metadata": {},
   "source": [
    "# % and %% are ipthyon 'magics'\n",
    "# ! is ipython's shell execution shortcut"
   ]
  },
  {
   "cell_type": "code",
   "execution_count": null,
   "metadata": {
    "scrolled": true
   },
   "outputs": [],
   "source": [
    "%history"
   ]
  },
  {
   "cell_type": "code",
   "execution_count": 3,
   "metadata": {
    "scrolled": true
   },
   "outputs": [
    {
     "name": "stdout",
     "output_type": "stream",
     "text": [
      "data_public/Jupyter/2017ANA.EVA data_public/Jupyter/2017MIL.EVN\r\n",
      "data_public/Jupyter/2017ARI.EVN data_public/Jupyter/2017MIN.EVA\r\n",
      "data_public/Jupyter/2017ATL.EVN data_public/Jupyter/2017NYA.EVA\r\n",
      "data_public/Jupyter/2017BAL.EVA data_public/Jupyter/2017NYN.EVN\r\n",
      "data_public/Jupyter/2017BOS.EVA data_public/Jupyter/2017OAK.EVA\r\n",
      "data_public/Jupyter/2017CHA.EVA data_public/Jupyter/2017PHI.EVN\r\n",
      "data_public/Jupyter/2017CHN.EVN data_public/Jupyter/2017PIT.EVN\r\n",
      "data_public/Jupyter/2017CIN.EVN data_public/Jupyter/2017SDN.EVN\r\n",
      "data_public/Jupyter/2017CLE.EVA data_public/Jupyter/2017SEA.EVA\r\n",
      "data_public/Jupyter/2017COL.EVN data_public/Jupyter/2017SFN.EVN\r\n",
      "data_public/Jupyter/2017DET.EVA data_public/Jupyter/2017SLN.EVN\r\n",
      "data_public/Jupyter/2017HOU.EVA data_public/Jupyter/2017TBA.EVA\r\n",
      "data_public/Jupyter/2017KCA.EVA data_public/Jupyter/2017TEX.EVA\r\n",
      "data_public/Jupyter/2017LAN.EVN data_public/Jupyter/2017TOR.EVA\r\n",
      "data_public/Jupyter/2017MIA.EVN data_public/Jupyter/2017WAS.EVN\r\n"
     ]
    }
   ],
   "source": [
    "!ls data_public/Jupyter/*.EV*"
   ]
  },
  {
   "cell_type": "markdown",
   "metadata": {},
   "source": [
    "### Here we're preparing the file.  Run the cwevent executable with -n and capture the header"
   ]
  },
  {
   "cell_type": "code",
   "execution_count": 4,
   "metadata": {
    "scrolled": true
   },
   "outputs": [],
   "source": [
    "#! cwevent -n data_public/Jupyter/2017SEA.EVA |head -1 >data_public/Jupyter/atbats.txt"
   ]
  },
  {
   "cell_type": "markdown",
   "metadata": {},
   "source": [
    "### Now we'll shell out and run a loop to invoke the converter on each event file.  We'll also concatentate the roster files in a separate command"
   ]
  },
  {
   "cell_type": "code",
   "execution_count": 5,
   "metadata": {
    "scrolled": true
   },
   "outputs": [],
   "source": [
    "#!for x in $(ls -1 data_public/Jupyter/*.EV*); do cwevent $x >>data_public/Jupyter/atbats.txt; done\n",
    "#!cat data_public/Jupyter/*.ROS >data_public/Jupyter/rosters.txt#"
   ]
  },
  {
   "cell_type": "markdown",
   "metadata": {},
   "source": [
    "#### Useful techniques for interacting with the shell\n",
    "\n",
    "* Use assignment to capture the ouput of your ! command"
   ]
  },
  {
   "cell_type": "code",
   "execution_count": 6,
   "metadata": {},
   "outputs": [],
   "source": [
    "files = !ls"
   ]
  },
  {
   "cell_type": "code",
   "execution_count": 7,
   "metadata": {},
   "outputs": [
    {
     "data": {
      "text/plain": [
       "IPython.utils.text.SList"
      ]
     },
     "execution_count": 7,
     "metadata": {},
     "output_type": "execute_result"
    }
   ],
   "source": [
    "type(files)"
   ]
  },
  {
   "cell_type": "code",
   "execution_count": 8,
   "metadata": {},
   "outputs": [
    {
     "data": {
      "text/plain": [
       "['Baseball.ipynb',\n",
       " 'Introl to Jupyter.ipynb',\n",
       " 'Jupyter-intro-data.ipynb',\n",
       " 'Jupyter-intro.ipynb',\n",
       " 'Mxw_cmp_Active_not_Sync.ipynb',\n",
       " 'Untitled.ipynb',\n",
       " 'crw_stage_for_deletion.ipynb',\n",
       " 'example_json.ipynb']"
      ]
     },
     "execution_count": 8,
     "metadata": {},
     "output_type": "execute_result"
    }
   ],
   "source": [
    "files.grep('\\.i.*')"
   ]
  },
  {
   "cell_type": "markdown",
   "metadata": {},
   "source": [
    "* Use {expression} to pass from ipython to the shell"
   ]
  },
  {
   "cell_type": "code",
   "execution_count": 9,
   "metadata": {},
   "outputs": [],
   "source": [
    "var = 'ipynbb'"
   ]
  },
  {
   "cell_type": "code",
   "execution_count": 10,
   "metadata": {},
   "outputs": [
    {
     "name": "stdout",
     "output_type": "stream",
     "text": [
      "ls: *.ipynbb: No such file or directory\r\n"
     ]
    }
   ],
   "source": [
    "!ls *.{var}"
   ]
  },
  {
   "cell_type": "code",
   "execution_count": 11,
   "metadata": {},
   "outputs": [
    {
     "name": "stdout",
     "output_type": "stream",
     "text": [
      "Baseball.ipynb                Mxw_cmp_Active_not_Sync.ipynb\r\n",
      "Introl to Jupyter.ipynb       Untitled.ipynb\r\n",
      "Jupyter-intro-data.ipynb      crw_stage_for_deletion.ipynb\r\n",
      "Jupyter-intro.ipynb           example_json.ipynb\r\n"
     ]
    }
   ],
   "source": [
    "!ls *.{var[0:-1]}"
   ]
  },
  {
   "cell_type": "code",
   "execution_count": 12,
   "metadata": {},
   "outputs": [],
   "source": [
    "df_atbats=pd.read_csv('./data_public/Jupyter/atbats.txt')\n",
    "df_players=pd.read_csv('./data_public/Jupyter/players.txt')"
   ]
  },
  {
   "cell_type": "code",
   "execution_count": 13,
   "metadata": {},
   "outputs": [
    {
     "data": {
      "text/plain": [
       "(191196, 36)"
      ]
     },
     "execution_count": 13,
     "metadata": {},
     "output_type": "execute_result"
    }
   ],
   "source": [
    "df_atbats.shape"
   ]
  },
  {
   "cell_type": "code",
   "execution_count": 14,
   "metadata": {},
   "outputs": [
    {
     "data": {
      "text/html": [
       "<div>\n",
       "<style scoped>\n",
       "    .dataframe tbody tr th:only-of-type {\n",
       "        vertical-align: middle;\n",
       "    }\n",
       "\n",
       "    .dataframe tbody tr th {\n",
       "        vertical-align: top;\n",
       "    }\n",
       "\n",
       "    .dataframe thead th {\n",
       "        text-align: right;\n",
       "    }\n",
       "</style>\n",
       "<table border=\"1\" class=\"dataframe\">\n",
       "  <thead>\n",
       "    <tr style=\"text-align: right;\">\n",
       "      <th></th>\n",
       "      <th>GAME_ID</th>\n",
       "      <th>AWAY_TEAM_ID</th>\n",
       "      <th>INN_CT</th>\n",
       "      <th>BAT_HOME_ID</th>\n",
       "      <th>OUTS_CT</th>\n",
       "      <th>BALLS_CT</th>\n",
       "      <th>STRIKES_CT</th>\n",
       "      <th>AWAY_SCORE_CT</th>\n",
       "      <th>HOME_SCORE_CT</th>\n",
       "      <th>RESP_BAT_ID</th>\n",
       "      <th>...</th>\n",
       "      <th>SF_FL</th>\n",
       "      <th>EVENT_OUTS_CT</th>\n",
       "      <th>RBI_CT</th>\n",
       "      <th>WP_FL</th>\n",
       "      <th>PB_FL</th>\n",
       "      <th>ERR_CT</th>\n",
       "      <th>BAT_DEST_ID</th>\n",
       "      <th>RUN1_DEST_ID</th>\n",
       "      <th>RUN2_DEST_ID</th>\n",
       "      <th>RUN3_DEST_ID</th>\n",
       "    </tr>\n",
       "  </thead>\n",
       "  <tbody>\n",
       "    <tr>\n",
       "      <th>0</th>\n",
       "      <td>ANA201704070</td>\n",
       "      <td>SEA</td>\n",
       "      <td>1</td>\n",
       "      <td>0</td>\n",
       "      <td>0</td>\n",
       "      <td>3</td>\n",
       "      <td>2</td>\n",
       "      <td>0</td>\n",
       "      <td>0</td>\n",
       "      <td>seguj002</td>\n",
       "      <td>...</td>\n",
       "      <td>F</td>\n",
       "      <td>0</td>\n",
       "      <td>0</td>\n",
       "      <td>F</td>\n",
       "      <td>F</td>\n",
       "      <td>0</td>\n",
       "      <td>1</td>\n",
       "      <td>0</td>\n",
       "      <td>0</td>\n",
       "      <td>0</td>\n",
       "    </tr>\n",
       "    <tr>\n",
       "      <th>1</th>\n",
       "      <td>ANA201704070</td>\n",
       "      <td>SEA</td>\n",
       "      <td>1</td>\n",
       "      <td>0</td>\n",
       "      <td>0</td>\n",
       "      <td>1</td>\n",
       "      <td>2</td>\n",
       "      <td>0</td>\n",
       "      <td>0</td>\n",
       "      <td>hanim001</td>\n",
       "      <td>...</td>\n",
       "      <td>F</td>\n",
       "      <td>1</td>\n",
       "      <td>0</td>\n",
       "      <td>F</td>\n",
       "      <td>F</td>\n",
       "      <td>0</td>\n",
       "      <td>0</td>\n",
       "      <td>1</td>\n",
       "      <td>0</td>\n",
       "      <td>0</td>\n",
       "    </tr>\n",
       "    <tr>\n",
       "      <th>2</th>\n",
       "      <td>ANA201704070</td>\n",
       "      <td>SEA</td>\n",
       "      <td>1</td>\n",
       "      <td>0</td>\n",
       "      <td>1</td>\n",
       "      <td>1</td>\n",
       "      <td>1</td>\n",
       "      <td>0</td>\n",
       "      <td>0</td>\n",
       "      <td>canor001</td>\n",
       "      <td>...</td>\n",
       "      <td>F</td>\n",
       "      <td>1</td>\n",
       "      <td>0</td>\n",
       "      <td>F</td>\n",
       "      <td>F</td>\n",
       "      <td>0</td>\n",
       "      <td>0</td>\n",
       "      <td>1</td>\n",
       "      <td>0</td>\n",
       "      <td>0</td>\n",
       "    </tr>\n",
       "    <tr>\n",
       "      <th>3</th>\n",
       "      <td>ANA201704070</td>\n",
       "      <td>SEA</td>\n",
       "      <td>1</td>\n",
       "      <td>0</td>\n",
       "      <td>2</td>\n",
       "      <td>0</td>\n",
       "      <td>1</td>\n",
       "      <td>0</td>\n",
       "      <td>0</td>\n",
       "      <td>cruzn002</td>\n",
       "      <td>...</td>\n",
       "      <td>F</td>\n",
       "      <td>0</td>\n",
       "      <td>0</td>\n",
       "      <td>F</td>\n",
       "      <td>F</td>\n",
       "      <td>0</td>\n",
       "      <td>0</td>\n",
       "      <td>2</td>\n",
       "      <td>0</td>\n",
       "      <td>0</td>\n",
       "    </tr>\n",
       "    <tr>\n",
       "      <th>4</th>\n",
       "      <td>ANA201704070</td>\n",
       "      <td>SEA</td>\n",
       "      <td>1</td>\n",
       "      <td>0</td>\n",
       "      <td>2</td>\n",
       "      <td>2</td>\n",
       "      <td>2</td>\n",
       "      <td>0</td>\n",
       "      <td>0</td>\n",
       "      <td>cruzn002</td>\n",
       "      <td>...</td>\n",
       "      <td>F</td>\n",
       "      <td>1</td>\n",
       "      <td>0</td>\n",
       "      <td>F</td>\n",
       "      <td>F</td>\n",
       "      <td>0</td>\n",
       "      <td>0</td>\n",
       "      <td>0</td>\n",
       "      <td>2</td>\n",
       "      <td>0</td>\n",
       "    </tr>\n",
       "  </tbody>\n",
       "</table>\n",
       "<p>5 rows × 36 columns</p>\n",
       "</div>"
      ],
      "text/plain": [
       "        GAME_ID AWAY_TEAM_ID  INN_CT  BAT_HOME_ID  OUTS_CT  BALLS_CT  \\\n",
       "0  ANA201704070          SEA       1            0        0         3   \n",
       "1  ANA201704070          SEA       1            0        0         1   \n",
       "2  ANA201704070          SEA       1            0        1         1   \n",
       "3  ANA201704070          SEA       1            0        2         0   \n",
       "4  ANA201704070          SEA       1            0        2         2   \n",
       "\n",
       "   STRIKES_CT  AWAY_SCORE_CT  HOME_SCORE_CT RESP_BAT_ID      ...      SF_FL  \\\n",
       "0           2              0              0    seguj002      ...          F   \n",
       "1           2              0              0    hanim001      ...          F   \n",
       "2           1              0              0    canor001      ...          F   \n",
       "3           1              0              0    cruzn002      ...          F   \n",
       "4           2              0              0    cruzn002      ...          F   \n",
       "\n",
       "  EVENT_OUTS_CT RBI_CT WP_FL PB_FL ERR_CT BAT_DEST_ID RUN1_DEST_ID  \\\n",
       "0             0      0     F     F      0           1            0   \n",
       "1             1      0     F     F      0           0            1   \n",
       "2             1      0     F     F      0           0            1   \n",
       "3             0      0     F     F      0           0            2   \n",
       "4             1      0     F     F      0           0            0   \n",
       "\n",
       "  RUN2_DEST_ID  RUN3_DEST_ID  \n",
       "0            0             0  \n",
       "1            0             0  \n",
       "2            0             0  \n",
       "3            0             0  \n",
       "4            2             0  \n",
       "\n",
       "[5 rows x 36 columns]"
      ]
     },
     "execution_count": 14,
     "metadata": {},
     "output_type": "execute_result"
    }
   ],
   "source": [
    "df_atbats.head()"
   ]
  },
  {
   "cell_type": "code",
   "execution_count": 15,
   "metadata": {},
   "outputs": [
    {
     "data": {
      "text/plain": [
       "TOR    4.512346\n",
       "NYN    4.475995\n",
       "HOU    4.472565\n",
       "MIA    4.471879\n",
       "NYA    4.466392\n",
       "CIN    4.457476\n",
       "ATL    4.439643\n",
       "BOS    4.403292\n",
       "KCA    4.385460\n",
       "SEA    4.384088\n",
       "SDN    4.379287\n",
       "SLN    4.373800\n",
       "SFN    4.362826\n",
       "TBA    4.361454\n",
       "CHA    4.358711\n",
       "COL    4.357339\n",
       "MIL    4.355967\n",
       "CHN    4.355967\n",
       "LAN    4.338820\n",
       "MIN    4.338820\n",
       "PHI    4.336763\n",
       "ANA    4.329218\n",
       "PIT    4.320302\n",
       "DET    4.305898\n",
       "OAK    4.305213\n",
       "WAS    4.304527\n",
       "ARI    4.303841\n",
       "CLE    4.297668\n",
       "BAL    4.296982\n",
       "TEX    4.283265\n",
       "Name: AWAY_TEAM_ID, dtype: float64"
      ]
     },
     "execution_count": 15,
     "metadata": {},
     "output_type": "execute_result"
    }
   ],
   "source": [
    "df_atbats['AWAY_TEAM_ID'].value_counts()/162/9"
   ]
  },
  {
   "cell_type": "code",
   "execution_count": 16,
   "metadata": {},
   "outputs": [
    {
     "data": {
      "text/plain": [
       "pandas.core.series.Series"
      ]
     },
     "execution_count": 16,
     "metadata": {},
     "output_type": "execute_result"
    }
   ],
   "source": [
    "type(df_atbats['AWAY_TEAM_ID'].value_counts())"
   ]
  },
  {
   "cell_type": "code",
   "execution_count": 17,
   "metadata": {},
   "outputs": [
    {
     "data": {
      "text/plain": [
       "Index(['TOR', 'NYN', 'HOU', 'MIA', 'NYA', 'CIN', 'ATL', 'BOS', 'KCA', 'SEA',\n",
       "       'SDN', 'SLN', 'SFN', 'TBA', 'CHA', 'COL', 'MIL', 'CHN', 'LAN', 'MIN',\n",
       "       'PHI', 'ANA', 'PIT', 'DET', 'OAK', 'WAS', 'ARI', 'CLE', 'BAL', 'TEX'],\n",
       "      dtype='object')"
      ]
     },
     "execution_count": 17,
     "metadata": {},
     "output_type": "execute_result"
    }
   ],
   "source": [
    "df_atbats['AWAY_TEAM_ID'].value_counts().index"
   ]
  },
  {
   "cell_type": "code",
   "execution_count": 18,
   "metadata": {},
   "outputs": [],
   "source": [
    "filters = {}\n",
    "for team in df_atbats['AWAY_TEAM_ID'].value_counts().index:\n",
    "   filters[team] = (df_atbats['GAME_ID'].str.startswith(team)) | (df_atbats['AWAY_TEAM_ID'] == team)"
   ]
  },
  {
   "cell_type": "code",
   "execution_count": 19,
   "metadata": {},
   "outputs": [],
   "source": [
    "flt_homers = df_atbats['BAT_DEST_ID'] == 4\n",
    "flt_redsox = (df_atbats['GAME_ID'].str.startswith('BOS')) | (df_atbats['AWAY_TEAM_ID'] == 'BOS')\n",
    "flt_yankees = (df_atbats['GAME_ID'].str.startswith('NYA')) | (df_atbats['AWAY_TEAM_ID'] == 'NYA')"
   ]
  },
  {
   "cell_type": "code",
   "execution_count": 20,
   "metadata": {},
   "outputs": [
    {
     "data": {
      "text/plain": [
       "(6058, 36)"
      ]
     },
     "execution_count": 20,
     "metadata": {},
     "output_type": "execute_result"
    }
   ],
   "source": [
    "df_atbats[flt_homers].shape"
   ]
  },
  {
   "cell_type": "code",
   "execution_count": 21,
   "metadata": {},
   "outputs": [
    {
     "data": {
      "text/plain": [
       "(191196, 36)"
      ]
     },
     "execution_count": 21,
     "metadata": {},
     "output_type": "execute_result"
    }
   ],
   "source": [
    "df_atbats.shape"
   ]
  },
  {
   "cell_type": "code",
   "execution_count": 22,
   "metadata": {},
   "outputs": [
    {
     "data": {
      "text/plain": [
       "2430"
      ]
     },
     "execution_count": 22,
     "metadata": {},
     "output_type": "execute_result"
    }
   ],
   "source": [
    "len(df_atbats.GAME_ID.value_counts())"
   ]
  },
  {
   "cell_type": "code",
   "execution_count": 23,
   "metadata": {},
   "outputs": [
    {
     "data": {
      "text/plain": [
       "(12962,)"
      ]
     },
     "execution_count": 23,
     "metadata": {},
     "output_type": "execute_result"
    }
   ],
   "source": [
    "df_atbats[flt_redsox]['GAME_ID'].shape"
   ]
  },
  {
   "cell_type": "code",
   "execution_count": 24,
   "metadata": {},
   "outputs": [
    {
     "data": {
      "text/plain": [
       "0    184\n",
       "1    176\n",
       "Name: BAT_HOME_ID, dtype: int64"
      ]
     },
     "execution_count": 24,
     "metadata": {},
     "output_type": "execute_result"
    }
   ],
   "source": [
    "df_atbats[flt_redsox & flt_homers]['BAT_HOME_ID'].value_counts()"
   ]
  },
  {
   "cell_type": "code",
   "execution_count": 25,
   "metadata": {},
   "outputs": [
    {
     "name": "stdout",
     "output_type": "stream",
     "text": [
      "TOR\n",
      "0    213\n",
      "1    209\n",
      "Name: BAT_HOME_ID, dtype: int64\n",
      "NYN\n",
      "1    222\n",
      "0    219\n",
      "Name: BAT_HOME_ID, dtype: int64\n",
      "HOU\n",
      "0    220\n",
      "1    205\n",
      "Name: BAT_HOME_ID, dtype: int64\n",
      "MIA\n",
      "1    209\n",
      "0    177\n",
      "Name: BAT_HOME_ID, dtype: int64\n",
      "NYA\n",
      "1    226\n",
      "0    202\n",
      "Name: BAT_HOME_ID, dtype: int64\n",
      "CIN\n",
      "1    238\n",
      "0    228\n",
      "Name: BAT_HOME_ID, dtype: int64\n",
      "ATL\n",
      "0    184\n",
      "1    171\n",
      "Name: BAT_HOME_ID, dtype: int64\n",
      "BOS\n",
      "0    184\n",
      "1    176\n",
      "Name: BAT_HOME_ID, dtype: int64\n",
      "KCA\n",
      "1    198\n",
      "0    189\n",
      "Name: BAT_HOME_ID, dtype: int64\n",
      "SEA\n",
      "1    217\n",
      "0    214\n",
      "Name: BAT_HOME_ID, dtype: int64\n",
      "SDN\n",
      "1    222\n",
      "0    192\n",
      "Name: BAT_HOME_ID, dtype: int64\n",
      "SLN\n",
      "1    189\n",
      "0    188\n",
      "Name: BAT_HOME_ID, dtype: int64\n",
      "SFN\n",
      "1    161\n",
      "0    146\n",
      "Name: BAT_HOME_ID, dtype: int64\n",
      "TBA\n",
      "0    213\n",
      "1    206\n",
      "Name: BAT_HOME_ID, dtype: int64\n",
      "CHA\n",
      "0    216\n",
      "1    209\n",
      "Name: BAT_HOME_ID, dtype: int64\n",
      "COL\n",
      "1    201\n",
      "0    179\n",
      "Name: BAT_HOME_ID, dtype: int64\n",
      "MIL\n",
      "0    203\n",
      "1    202\n",
      "Name: BAT_HOME_ID, dtype: int64\n",
      "CHN\n",
      "1    216\n",
      "0    198\n",
      "Name: BAT_HOME_ID, dtype: int64\n",
      "LAN\n",
      "1    210\n",
      "0    194\n",
      "Name: BAT_HOME_ID, dtype: int64\n",
      "MIN\n",
      "0    217\n",
      "1    210\n",
      "Name: BAT_HOME_ID, dtype: int64\n",
      "PHI\n",
      "1    196\n",
      "0    194\n",
      "Name: BAT_HOME_ID, dtype: int64\n",
      "ANA\n",
      "1    214\n",
      "0    193\n",
      "Name: BAT_HOME_ID, dtype: int64\n",
      "PIT\n",
      "1    173\n",
      "0    153\n",
      "Name: BAT_HOME_ID, dtype: int64\n",
      "DET\n",
      "1    218\n",
      "0    186\n",
      "Name: BAT_HOME_ID, dtype: int64\n",
      "OAK\n",
      "1    240\n",
      "0    201\n",
      "Name: BAT_HOME_ID, dtype: int64\n",
      "WAS\n",
      "0    205\n",
      "1    196\n",
      "Name: BAT_HOME_ID, dtype: int64\n",
      "ARI\n",
      "1    198\n",
      "0    188\n",
      "Name: BAT_HOME_ID, dtype: int64\n",
      "CLE\n",
      "0    206\n",
      "1    166\n",
      "Name: BAT_HOME_ID, dtype: int64\n",
      "BAL\n",
      "1    249\n",
      "0    223\n",
      "Name: BAT_HOME_ID, dtype: int64\n",
      "TEX\n",
      "1    223\n",
      "0    221\n",
      "Name: BAT_HOME_ID, dtype: int64\n"
     ]
    }
   ],
   "source": [
    "for filter in filters:\n",
    "    print(filter)\n",
    "    print(df_atbats[filters[filter] & flt_homers]['BAT_HOME_ID'].value_counts())"
   ]
  },
  {
   "cell_type": "code",
   "execution_count": 26,
   "metadata": {},
   "outputs": [
    {
     "data": {
      "text/plain": [
       "False    184654\n",
       "True       6542\n",
       "Name: GAME_ID, dtype: int64"
      ]
     },
     "execution_count": 26,
     "metadata": {},
     "output_type": "execute_result"
    }
   ],
   "source": [
    "df_atbats['GAME_ID'].str.startswith('BOS').value_counts()"
   ]
  },
  {
   "cell_type": "code",
   "execution_count": 27,
   "metadata": {},
   "outputs": [
    {
     "data": {
      "text/plain": [
       "Index(['GAME_ID', 'AWAY_TEAM_ID', 'INN_CT', 'BAT_HOME_ID', 'OUTS_CT',\n",
       "       'BALLS_CT', 'STRIKES_CT', 'AWAY_SCORE_CT', 'HOME_SCORE_CT',\n",
       "       'RESP_BAT_ID', 'RESP_BAT_HAND_CD', 'RESP_PIT_ID', 'RESP_PIT_HAND_CD',\n",
       "       'BASE1_RUN_ID', 'BASE2_RUN_ID', 'BASE3_RUN_ID', 'EVENT_TX',\n",
       "       'LEADOFF_FL', 'PH_FL', 'BAT_FLD_CD', 'BAT_LINEUP_ID', 'EVENT_CD',\n",
       "       'BAT_EVENT_FL', 'AB_FL', 'H_CD', 'SH_FL', 'SF_FL', 'EVENT_OUTS_CT',\n",
       "       'RBI_CT', 'WP_FL', 'PB_FL', 'ERR_CT', 'BAT_DEST_ID', 'RUN1_DEST_ID',\n",
       "       'RUN2_DEST_ID', 'RUN3_DEST_ID'],\n",
       "      dtype='object')"
      ]
     },
     "execution_count": 27,
     "metadata": {},
     "output_type": "execute_result"
    }
   ],
   "source": [
    "df_atbats.columns"
   ]
  },
  {
   "cell_type": "code",
   "execution_count": 28,
   "metadata": {},
   "outputs": [],
   "source": [
    "grp_teams = df_atbats.groupby([df_atbats['GAME_ID'].str[0:3], df_atbats['AWAY_TEAM_ID']])"
   ]
  },
  {
   "cell_type": "code",
   "execution_count": 29,
   "metadata": {},
   "outputs": [
    {
     "data": {
      "text/plain": [
       "GAME_ID  AWAY_TEAM_ID\n",
       "ANA      ATL             217\n",
       "         BAL             213\n",
       "         BOS             217\n",
       "         CHA             252\n",
       "         CLE             227\n",
       "         DET             300\n",
       "         HOU             660\n",
       "         KCA             302\n",
       "         LAN             147\n",
       "         MIN             308\n",
       "         NYA             263\n",
       "         OAK             722\n",
       "         PHI             229\n",
       "         SEA             680\n",
       "         TBA             232\n",
       "         TEX             783\n",
       "         TOR             339\n",
       "         WAS             139\n",
       "ARI      ATL             259\n",
       "         CHA             212\n",
       "         CHN             244\n",
       "         CIN             227\n",
       "         CLE             229\n",
       "         COL             794\n",
       "         DET             156\n",
       "         HOU             151\n",
       "         LAN             703\n",
       "         MIA             260\n",
       "         MIL             242\n",
       "         NYN             240\n",
       "                        ... \n",
       "TOR      CLE             222\n",
       "         DET             228\n",
       "         HOU             330\n",
       "         KCA             220\n",
       "         MIL             147\n",
       "         MIN             247\n",
       "         NYA             757\n",
       "         OAK             297\n",
       "         PIT             220\n",
       "         SEA             303\n",
       "         TBA             688\n",
       "         TEX             234\n",
       "WAS      ANA             139\n",
       "         ARI             233\n",
       "         ATL             815\n",
       "         BAL             156\n",
       "         CHN             320\n",
       "         CIN             259\n",
       "         COL             217\n",
       "         LAN             224\n",
       "         MIA             771\n",
       "         MIL             242\n",
       "         NYN             738\n",
       "         PHI             766\n",
       "         PIT             320\n",
       "         SDN             226\n",
       "         SEA             220\n",
       "         SFN             237\n",
       "         SLN             246\n",
       "         TEX             241\n",
       "Name: EVENT_CD, Length: 540, dtype: int64"
      ]
     },
     "execution_count": 29,
     "metadata": {},
     "output_type": "execute_result"
    }
   ],
   "source": [
    "grp_teams['EVENT_CD'].count()"
   ]
  },
  {
   "cell_type": "code",
   "execution_count": 30,
   "metadata": {},
   "outputs": [],
   "source": [
    "grp_away = df_atbats.groupby(df_atbats['AWAY_TEAM_ID'])\n",
    "grp_home = df_atbats.groupby(df_atbats['GAME_ID'].str[0:3])"
   ]
  },
  {
   "cell_type": "code",
   "execution_count": 31,
   "metadata": {
    "scrolled": true
   },
   "outputs": [
    {
     "data": {
      "text/plain": [
       "(6105, 36)"
      ]
     },
     "execution_count": 31,
     "metadata": {},
     "output_type": "execute_result"
    }
   ],
   "source": [
    "df_atbats[df_atbats['EVENT_CD'] == 23].shape"
   ]
  },
  {
   "cell_type": "code",
   "execution_count": 32,
   "metadata": {},
   "outputs": [],
   "source": [
    "%matplotlib inline"
   ]
  },
  {
   "cell_type": "markdown",
   "metadata": {},
   "source": []
  },
  {
   "cell_type": "code",
   "execution_count": 39,
   "metadata": {},
   "outputs": [
    {
     "data": {
      "text/plain": [
       "0         14\n",
       "1          3\n",
       "2          2\n",
       "3          4\n",
       "4          3\n",
       "6230       2\n",
       "6231      14\n",
       "6232      20\n",
       "6233       3\n",
       "6234       2\n",
       "12669      2\n",
       "12670     14\n",
       "12671      4\n",
       "12672      2\n",
       "12673      2\n",
       "19109     20\n",
       "19110      2\n",
       "19111      2\n",
       "19112      2\n",
       "19113      2\n",
       "25580      2\n",
       "25581      2\n",
       "25582      2\n",
       "25583      2\n",
       "25584      3\n",
       "32122      2\n",
       "32123      2\n",
       "32124     14\n",
       "32125      2\n",
       "32126     20\n",
       "          ..\n",
       "152998     2\n",
       "152999     2\n",
       "153000     2\n",
       "153001    21\n",
       "153002     2\n",
       "159431    20\n",
       "159432     3\n",
       "159433    20\n",
       "159434     2\n",
       "159435     2\n",
       "165758     2\n",
       "165759     2\n",
       "165760    14\n",
       "165761     2\n",
       "165762    20\n",
       "172048     2\n",
       "172049    14\n",
       "172050     3\n",
       "172051     3\n",
       "172052    14\n",
       "178578     2\n",
       "178579    23\n",
       "178580     2\n",
       "178581    22\n",
       "178582    20\n",
       "184826     2\n",
       "184827     2\n",
       "184828     3\n",
       "184829    21\n",
       "184830    14\n",
       "Name: EVENT_CD, Length: 150, dtype: int64"
      ]
     },
     "execution_count": 39,
     "metadata": {},
     "output_type": "execute_result"
    }
   ],
   "source": [
    "grp_home['EVENT_CD'].head()"
   ]
  },
  {
   "cell_type": "code",
   "execution_count": 34,
   "metadata": {},
   "outputs": [
    {
     "ename": "SyntaxError",
     "evalue": "unexpected EOF while parsing (<ipython-input-34-3399975dff36>, line 1)",
     "output_type": "error",
     "traceback": [
      "\u001b[0;36m  File \u001b[0;32m\"<ipython-input-34-3399975dff36>\"\u001b[0;36m, line \u001b[0;32m1\u001b[0m\n\u001b[0;31m    df_atbats[filters['NYA'\u001b[0m\n\u001b[0m                           ^\u001b[0m\n\u001b[0;31mSyntaxError\u001b[0m\u001b[0;31m:\u001b[0m unexpected EOF while parsing\n"
     ]
    }
   ],
   "source": [
    "df_atbats[filters['NYA'"
   ]
  },
  {
   "cell_type": "code",
   "execution_count": null,
   "metadata": {},
   "outputs": [],
   "source": []
  },
  {
   "cell_type": "code",
   "execution_count": null,
   "metadata": {},
   "outputs": [],
   "source": [
    "for f in var:\n",
    "    print(f)\n",
    "    "
   ]
  },
  {
   "cell_type": "code",
   "execution_count": null,
   "metadata": {},
   "outputs": [],
   "source": [
    "type(var)"
   ]
  },
  {
   "cell_type": "code",
   "execution_count": null,
   "metadata": {},
   "outputs": [],
   "source": [
    "var.n"
   ]
  },
  {
   "cell_type": "code",
   "execution_count": null,
   "metadata": {},
   "outputs": [],
   "source": [
    "type(var.p)"
   ]
  },
  {
   "cell_type": "code",
   "execution_count": null,
   "metadata": {},
   "outputs": [],
   "source": [
    "var.grep('^r.*')"
   ]
  },
  {
   "cell_type": "code",
   "execution_count": null,
   "metadata": {},
   "outputs": [],
   "source": [
    "flt = '*.ip*'"
   ]
  },
  {
   "cell_type": "code",
   "execution_count": null,
   "metadata": {},
   "outputs": [],
   "source": [
    "%ls {flt}"
   ]
  },
  {
   "cell_type": "code",
   "execution_count": null,
   "metadata": {},
   "outputs": [],
   "source": []
  }
 ],
 "metadata": {
  "kernelspec": {
   "display_name": "Python 3",
   "language": "python",
   "name": "python3"
  },
  "language_info": {
   "codemirror_mode": {
    "name": "ipython",
    "version": 3
   },
   "file_extension": ".py",
   "mimetype": "text/x-python",
   "name": "python",
   "nbconvert_exporter": "python",
   "pygments_lexer": "ipython3",
   "version": "3.7.0"
  }
 },
 "nbformat": 4,
 "nbformat_minor": 2
}
