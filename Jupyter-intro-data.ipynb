{
 "cells": [
  {
   "cell_type": "markdown",
   "metadata": {},
   "source": [
    "# This notebook prepares the primary data sets and visits some tips and techniques along the way\n",
    "\n",
    "* Full data pulled from retrosheet.org\n",
    "* Chadwick tools used for converting retrosheet data http://chadwick.sourceforge.net/doc/cwtools.html"
   ]
  },
  {
   "cell_type": "markdown",
   "metadata": {},
   "source": [
    "We'll be using Retrosheet baseball data for our examples in this discussion.  At the center of the work will be the Retrosheet 'Event Files' from 2017.  Each row in the event file describes some kind of action on the field. Any time the game situation is different from the previous pitch, one or more events is created.  The events are rich in data.  They indicate the game, the inning, the batter, the type of hit, the direction of the hit, the number of runners on base etc. We'll take a look at the event codes a bit later to get some impression of the depth of information.  There are 191,996 events recorded for 2017.  There were 81\\*30 or 2430 scheduled games in 2017. This yields, on average, about 79 events per game."
   ]
  },
  {
   "cell_type": "code",
   "execution_count": null,
   "metadata": {},
   "outputs": [],
   "source": [
    "import pandas as pd\n",
    "import os\n",
    "import matplotlib"
   ]
  },
  {
   "cell_type": "markdown",
   "metadata": {},
   "source": [
    "# % and %% are ipthyon 'magics'\n",
    "# ! is ipython's shell execution shortcut"
   ]
  },
  {
   "cell_type": "code",
   "execution_count": 2,
   "metadata": {},
   "outputs": [
    {
     "name": "stdout",
     "output_type": "stream",
     "text": [
      "%history\n",
      "%history\n"
     ]
    }
   ],
   "source": [
    "%history"
   ]
  },
  {
   "cell_type": "code",
   "execution_count": null,
   "metadata": {},
   "outputs": [],
   "source": [
    "!ls data_public/*.EV*"
   ]
  },
  {
   "cell_type": "code",
   "execution_count": null,
   "metadata": {},
   "outputs": [],
   "source": [
    "%%sh\n",
    "head -3 data_public/2017CHA.EVA\n",
    "echo \"\"\n",
    "echo 'data_public/2017CHA.EVA'\n",
    "echo \"\"\n",
    "sort -k2 -t, data_public/2017CHA.EVA |head -5"
   ]
  },
  {
   "cell_type": "markdown",
   "metadata": {},
   "source": [
    "#### Useful techniques for interacting with the shell\n",
    "\n",
    "* <b>Use assignment to capture the ouput of your ! command</b>"
   ]
  },
  {
   "cell_type": "code",
   "execution_count": null,
   "metadata": {},
   "outputs": [],
   "source": [
    "files = !ls"
   ]
  },
  {
   "cell_type": "code",
   "execution_count": null,
   "metadata": {},
   "outputs": [],
   "source": [
    "type(files)"
   ]
  },
  {
   "cell_type": "code",
   "execution_count": null,
   "metadata": {},
   "outputs": [],
   "source": [
    "files.grep('\\.i.*')"
   ]
  },
  {
   "cell_type": "code",
   "execution_count": null,
   "metadata": {},
   "outputs": [],
   "source": [
    "files.p"
   ]
  },
  {
   "cell_type": "markdown",
   "metadata": {},
   "source": [
    "## Passing Python output to the shell\n",
    "#### Here we'll do the opposite and more powerful technique\n",
    "* <b>We'll use Use {expression} to pass from ipython to the shell</b>"
   ]
  },
  {
   "cell_type": "code",
   "execution_count": null,
   "metadata": {},
   "outputs": [],
   "source": [
    "extension = 'ipynbb'"
   ]
  },
  {
   "cell_type": "code",
   "execution_count": null,
   "metadata": {},
   "outputs": [],
   "source": [
    "!ls *.{extension}"
   ]
  },
  {
   "cell_type": "markdown",
   "metadata": {},
   "source": [
    "* Hmm... Extra trailing 'b'. Lets take a slice of the extension string"
   ]
  },
  {
   "cell_type": "code",
   "execution_count": null,
   "metadata": {
    "scrolled": true
   },
   "outputs": [],
   "source": [
    "!ls *.{extension[0:-1]}"
   ]
  },
  {
   "cell_type": "markdown",
   "metadata": {},
   "source": [
    "### This shows us a few techniques and examples. <br> In the following section, we'll use these techniques to bring in the data set that we'll use for our analysis."
   ]
  },
  {
   "cell_type": "markdown",
   "metadata": {},
   "source": [
    "### Here we're preparing the file.  Run the cwevent executable with -n and capture the header"
   ]
  },
  {
   "cell_type": "code",
   "execution_count": null,
   "metadata": {},
   "outputs": [],
   "source": [
    "#Chadwick expects a 'team' file in the cwd\n",
    "!ln -s ./data_public/TEAM2017 team"
   ]
  },
  {
   "cell_type": "code",
   "execution_count": null,
   "metadata": {
    "scrolled": true
   },
   "outputs": [],
   "source": [
    "! cwevent -n data_public/2017SEA.EVA |head -1 >data_public/atbats.txt"
   ]
  },
  {
   "cell_type": "markdown",
   "metadata": {},
   "source": [
    "### Now we'll shell out and run a loop to invoke the converter on each event file.  We'll also concatentate the roster files in a separate command"
   ]
  },
  {
   "cell_type": "code",
   "execution_count": null,
   "metadata": {},
   "outputs": [],
   "source": [
    "%%sh\n",
    "for x in $(ls -1 data_public/*.EV*); do cwevent $x >>data_public/atbats.txt; done\n",
    "cat data_public/*.ROS >data_public/rosters.txt"
   ]
  },
  {
   "cell_type": "markdown",
   "metadata": {},
   "source": [
    "### Standard Python file to dictionary\n",
    "* Constants for event codes\n",
    "* Here we're reading a two column file into a Python key:val (dictionary) data structure\n",
    "* This allows us to use '2B' and 'HR' vs 21 and 23 to identify event rows of interest"
   ]
  },
  {
   "cell_type": "code",
   "execution_count": null,
   "metadata": {},
   "outputs": [],
   "source": [
    "event_code = {}\n",
    "with open(\"data_public/event_codes.txt\") as f:\n",
    "    for line in f:\n",
    "       (val, key) = line.split()\n",
    "       event_code[key] = int(val)"
   ]
  },
  {
   "cell_type": "code",
   "execution_count": null,
   "metadata": {},
   "outputs": [],
   "source": [
    "event_code"
   ]
  },
  {
   "cell_type": "code",
   "execution_count": null,
   "metadata": {},
   "outputs": [],
   "source": [
    "df_events=pd.read_csv('./data_public/atbats.txt')\n",
    "df_players=pd.read_csv('./data_public/players.txt')"
   ]
  },
  {
   "cell_type": "markdown",
   "metadata": {},
   "source": [
    "### Here are a few Pandas tools for getting an overview of a dataframe"
   ]
  },
  {
   "cell_type": "code",
   "execution_count": null,
   "metadata": {},
   "outputs": [],
   "source": [
    "df_events.shape"
   ]
  },
  {
   "cell_type": "code",
   "execution_count": null,
   "metadata": {},
   "outputs": [],
   "source": [
    "df_events.columns"
   ]
  },
  {
   "cell_type": "code",
   "execution_count": null,
   "metadata": {},
   "outputs": [],
   "source": [
    "df_events.head()"
   ]
  },
  {
   "cell_type": "code",
   "execution_count": null,
   "metadata": {},
   "outputs": [],
   "source": [
    "df_events.info()"
   ]
  },
  {
   "cell_type": "markdown",
   "metadata": {},
   "source": [
    "### Now we'll look at a few pandas techniques\n",
    "* First we'll restrict the dataframe to a single column\n",
    "* Next we'll restrict the dataframe to a set of columns\n",
    "* Third we'll breakdown the contants of a column\n",
    "* Fourth we'll use value_counts() to get a summary"
   ]
  },
  {
   "cell_type": "code",
   "execution_count": null,
   "metadata": {},
   "outputs": [],
   "source": [
    "df_events['GAME_ID'].head()"
   ]
  },
  {
   "cell_type": "markdown",
   "metadata": {},
   "source": [
    "* Notice that we restrict with dataframe[] and provide a python list of the colums with ['item1','item2'....] resulting in doubling of the brackets"
   ]
  },
  {
   "cell_type": "code",
   "execution_count": null,
   "metadata": {},
   "outputs": [],
   "source": [
    "df_events[['GAME_ID','AWAY_TEAM_ID','BALLS_CT','RESP_BAT_ID','OUTS_CT','EVENT_CD']].head()"
   ]
  },
  {
   "cell_type": "code",
   "execution_count": null,
   "metadata": {
    "scrolled": true
   },
   "outputs": [],
   "source": [
    "df_events['GAME_ID'].str[0:3].head()"
   ]
  },
  {
   "cell_type": "markdown",
   "metadata": {},
   "source": [
    "Below we apply the series.value_counts( ) method to return a series whose index is each distinct value "
   ]
  },
  {
   "cell_type": "code",
   "execution_count": null,
   "metadata": {},
   "outputs": [],
   "source": [
    "df_events['GAME_ID'].str[0:3].value_counts()"
   ]
  },
  {
   "cell_type": "markdown",
   "metadata": {},
   "source": [
    "### Let's look at the data quickly to get a bit of a better idea of what's in the files"
   ]
  },
  {
   "cell_type": "code",
   "execution_count": null,
   "metadata": {},
   "outputs": [],
   "source": [
    "df_events[['GAME_ID','AWAY_TEAM_ID','BALLS_CT','RESP_BAT_ID','OUTS_CT','EVENT_CD']].head()"
   ]
  },
  {
   "cell_type": "markdown",
   "metadata": {},
   "source": [
    "* Note above that there are two consecutive events for the same batter (cruzn002).  We'll use the pandas indexed lookup method (.iloc) to convert a row of the dataframe into a series whose index is the column name and values are the data from that row. Event codes here are 14=walk, 3=K, 2=generic out and 4=stolen base"
   ]
  },
  {
   "cell_type": "code",
   "execution_count": null,
   "metadata": {},
   "outputs": [],
   "source": [
    "df_events.iloc[3].loc['EVENT_CD']"
   ]
  },
  {
   "cell_type": "code",
   "execution_count": null,
   "metadata": {},
   "outputs": [],
   "source": [
    "type(df_events['AWAY_TEAM_ID'].value_counts())"
   ]
  },
  {
   "cell_type": "code",
   "execution_count": null,
   "metadata": {},
   "outputs": [],
   "source": [
    "df_events['AWAY_TEAM_ID'].value_counts().index"
   ]
  },
  {
   "cell_type": "markdown",
   "metadata": {},
   "source": [
    "#### This shows us a few techniques and examples. <br> In the following section, we'll use these techniques to bring in the data set that we'll use for our analysis."
   ]
  },
  {
   "cell_type": "markdown",
   "metadata": {},
   "source": [
    "#### Using value_counts to inspect a column\n",
    "* Here we use value_counts to generate list of entities from a series \n",
    "* Functionally identical to \"<b> cat file |cut -d, -f4|sort|uniq -c |sort -rn</b>\"\n",
    "* Functionally identical to \"<b>select column, count(column) group by column order by count(column)</b>\")\n",
    "* value_counts() is  a series or index method. It returns a series \n",
    "* Note again that the index of the series is the value in the column"
   ]
  },
  {
   "cell_type": "code",
   "execution_count": null,
   "metadata": {},
   "outputs": [],
   "source": [
    "df_events['AWAY_TEAM_ID'].value_counts()"
   ]
  },
  {
   "cell_type": "markdown",
   "metadata": {},
   "source": [
    "#### Create a few filters to restrict rows (filter is not a defined Pandas term)\n",
    "* These types of restrictions return a pandas series\n",
    "* We've named the series reflecting the filter(s) applied \n",
    "* Each series is a set of booleans indexed identically to the source"
   ]
  },
  {
   "cell_type": "code",
   "execution_count": null,
   "metadata": {},
   "outputs": [],
   "source": [
    "flt_homers = df_atbats['EVENT_CD'] == event_code['HR']\n",
    "flt_redsox = (df_atbats['GAME_ID'].str.startswith('BOS')) | (df_atbats['AWAY_TEAM_ID'] == 'BOS')\n",
    "flt_yankees = (df_atbats['GAME_ID'].str.startswith('NYA')) | (df_atbats['AWAY_TEAM_ID'] == 'NYA')"
   ]
  },
  {
   "cell_type": "code",
   "execution_count": null,
   "metadata": {},
   "outputs": [],
   "source": [
    "flt_homers.value_counts()"
   ]
  },
  {
   "cell_type": "code",
   "execution_count": null,
   "metadata": {},
   "outputs": [],
   "source": [
    "flt_redsox.value_counts()"
   ]
  },
  {
   "cell_type": "markdown",
   "metadata": {},
   "source": [
    "### Using an index along with python looping\n",
    "* An index is an iterable object\n",
    "* We traverse it here to make dictionaries of filters\n",
    "* First we'll show the index, then we'll iterate to create more filters"
   ]
  },
  {
   "cell_type": "code",
   "execution_count": null,
   "metadata": {},
   "outputs": [],
   "source": [
    "df_events['AWAY_TEAM_ID'].value_counts().index"
   ]
  },
  {
   "cell_type": "code",
   "execution_count": null,
   "metadata": {},
   "outputs": [],
   "source": [
    "flt_home_team = {}\n",
    "flt_away_team = {}\n",
    "for team in df_atbats['AWAY_TEAM_ID'].value_counts().index:\n",
    "    flt_home_team[team] = (df_atbats['GAME_ID'].str.startswith(team)) & (df_atbats['BAT_HOME_ID'] == 1)\n",
    "    flt_away_team[team] = (df_atbats['AWAY_TEAM_ID'] == team) & (df_atbats['BAT_HOME_ID'] == 0)"
   ]
  },
  {
   "cell_type": "markdown",
   "metadata": {},
   "source": [
    "* Our first practical question... How many doubles did the Red Sox have in 2017?"
   ]
  },
  {
   "cell_type": "code",
   "execution_count": null,
   "metadata": {},
   "outputs": [],
   "source": [
    "df_atbats[((flt_home_team['BOS']) | (flt_away_team['BOS'])) \\\n",
    "          & (df_atbats['EVENT_CD'] == event_code['DOUBLE'])].shape"
   ]
  },
  {
   "cell_type": "markdown",
   "metadata": {},
   "source": [
    "* Who had them??"
   ]
  },
  {
   "cell_type": "code",
   "execution_count": null,
   "metadata": {},
   "outputs": [],
   "source": [
    "df_atbats[((flt_home_team['BOS']) | (flt_away_team['BOS'])) \\\n",
    "          & (df_atbats['EVENT_CD'] == event_code['DOUBLE'])]['RESP_BAT_ID']"
   ]
  },
  {
   "cell_type": "code",
   "execution_count": null,
   "metadata": {},
   "outputs": [],
   "source": [
    "for filter in filters:\n",
    "    print(filter)\n",
    "    print(df_events[filters[filter] & flt_homers]['BAT_HOME_ID'].value_counts())"
   ]
  },
  {
   "cell_type": "code",
   "execution_count": null,
   "metadata": {},
   "outputs": [],
   "source": [
    "df_events['GAME_ID'].str.startswith('BOS').value_counts()"
   ]
  },
  {
   "cell_type": "markdown",
   "metadata": {},
   "source": [
    "## Pandas Merging Data Sets\n",
    "* Let's revisit the Red Sox Doubles"
   ]
  },
  {
   "cell_type": "code",
   "execution_count": null,
   "metadata": {},
   "outputs": [],
   "source": [
    "type(df_atbats[((flt_home_team['BOS']) | (flt_away_team['BOS'])) \\\n",
    "          & (df_atbats['EVENT_CD'] == event_code['DOUBLE'])]['RESP_BAT_ID'])"
   ]
  },
  {
   "cell_type": "code",
   "execution_count": null,
   "metadata": {},
   "outputs": [],
   "source": [
    "type(df_atbats[((flt_home_team['BOS']) | (flt_away_team['BOS'])) \\\n",
    "          & (df_atbats['EVENT_CD'] == event_code['DOUBLE'])])"
   ]
  },
  {
   "cell_type": "markdown",
   "metadata": {},
   "source": [
    "* Pandas merge() is a dataframe method so we'll have to use our dataframe version of the result set"
   ]
  },
  {
   "cell_type": "code",
   "execution_count": null,
   "metadata": {},
   "outputs": [],
   "source": [
    "df_players.head(3)"
   ]
  },
  {
   "cell_type": "code",
   "execution_count": null,
   "metadata": {},
   "outputs": [],
   "source": [
    "df_atbats[((flt_home_team['BOS']) | (flt_away_team['BOS'])) \\\n",
    "          & (df_atbats['EVENT_CD'] == event_code['DOUBLE'])]\\\n",
    ".merge(df_players,left_on = 'RESP_BAT_ID', right_on = 'ID')['Last'].value_counts()"
   ]
  },
  {
   "cell_type": "markdown",
   "metadata": {},
   "source": [
    "## Pandas Grouping"
   ]
  },
  {
   "cell_type": "code",
   "execution_count": null,
   "metadata": {},
   "outputs": [],
   "source": [
    "grp_teams_homers = df_events.groupby([df_events['GAME_ID'].str[0:3], df_events['AWAY_TEAM_ID'], df_events['EVENT_CD']==23])"
   ]
  },
  {
   "cell_type": "code",
   "execution_count": null,
   "metadata": {
    "scrolled": true
   },
   "outputs": [],
   "source": [
    "grp_teams_homers['EVENT_CD'].count()"
   ]
  },
  {
   "cell_type": "code",
   "execution_count": null,
   "metadata": {},
   "outputs": [],
   "source": [
    "grp_away = df_events.groupby(df_events['AWAY_TEAM_ID'])\n",
    "grp_home = df_events.groupby(df_events['GAME_ID'].str[0:3])"
   ]
  },
  {
   "cell_type": "code",
   "execution_count": null,
   "metadata": {},
   "outputs": [],
   "source": [
    "grp_away[df_events[df_events['EVENT_CD'] == 23]].count()"
   ]
  },
  {
   "cell_type": "code",
   "execution_count": null,
   "metadata": {},
   "outputs": [],
   "source": [
    "df_events[df_events['EVENT_CD'] == 23]['EVENT_CD']"
   ]
  },
  {
   "cell_type": "code",
   "execution_count": null,
   "metadata": {
    "scrolled": true
   },
   "outputs": [],
   "source": [
    "df_events[df_events['EVENT_CD'] == 23]['RESP_BAT_ID'].value_counts()"
   ]
  },
  {
   "cell_type": "code",
   "execution_count": null,
   "metadata": {},
   "outputs": [],
   "source": [
    "%matplotlib inline"
   ]
  },
  {
   "cell_type": "markdown",
   "metadata": {},
   "source": []
  },
  {
   "cell_type": "code",
   "execution_count": null,
   "metadata": {},
   "outputs": [],
   "source": [
    "grp_home['EVENT_CD'].head()"
   ]
  },
  {
   "cell_type": "code",
   "execution_count": null,
   "metadata": {},
   "outputs": [],
   "source": [
    "df_events[filters['NYA']"
   ]
  },
  {
   "cell_type": "code",
   "execution_count": null,
   "metadata": {},
   "outputs": [],
   "source": [
    "grp_hit_type=df_events.groupby('EVENT_CD')"
   ]
  },
  {
   "cell_type": "code",
   "execution_count": null,
   "metadata": {},
   "outputs": [],
   "source": [
    "grp_hit_type.describe()"
   ]
  },
  {
   "cell_type": "code",
   "execution_count": null,
   "metadata": {},
   "outputs": [],
   "source": [
    "for grpname,grprec in grp_hit_type:\n",
    "    print(grpname)\n",
    "    print(grprec)"
   ]
  },
  {
   "cell_type": "code",
   "execution_count": null,
   "metadata": {},
   "outputs": [],
   "source": [
    "df_events[df_events['EVENT_CD'] == 23].groupby([df_events['EVENT_CD'] == 23]['EVENT_CD'])"
   ]
  },
  {
   "cell_type": "code",
   "execution_count": null,
   "metadata": {},
   "outputs": [],
   "source": [
    "df_events[df_events['EVENT_CD' == 23]].groupby('BAT_HOME_ID').min()"
   ]
  },
  {
   "cell_type": "code",
   "execution_count": null,
   "metadata": {},
   "outputs": [],
   "source": []
  },
  {
   "cell_type": "code",
   "execution_count": null,
   "metadata": {},
   "outputs": [],
   "source": []
  },
  {
   "cell_type": "code",
   "execution_count": null,
   "metadata": {},
   "outputs": [],
   "source": [
    "%%matplotlib inline"
   ]
  }
 ],
 "metadata": {
  "kernelspec": {
   "display_name": "Python 3",
   "language": "python",
   "name": "python3"
  },
  "language_info": {
   "codemirror_mode": {
    "name": "ipython",
    "version": 3
   },
   "file_extension": ".py",
   "mimetype": "text/x-python",
   "name": "python",
   "nbconvert_exporter": "python",
   "pygments_lexer": "ipython3",
   "version": "3.6.5"
  }
 },
 "nbformat": 4,
 "nbformat_minor": 2
}
