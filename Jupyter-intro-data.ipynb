{
 "cells": [
  {
   "cell_type": "markdown",
   "metadata": {},
   "source": [
    "# This notebook prepares the primary data sets and visits some tips and techniques along the way\n",
    "\n",
    "* Full data pulled from retrosheet.org\n",
    "* Chadwick tools used for converting retrosheet data http://chadwick.sourceforge.net/doc/cwtools.html"
   ]
  },
  {
   "cell_type": "markdown",
   "metadata": {},
   "source": [
    "We'll be using Retrosheet baseball data for our examples in this discussion.  At the center of the work will be the Retrosheet 'Event Files' from 2017.  Each row in the event file describes some kind of action on the field. Any time the game situation is different from the previous pitch, one or more events is created.  The events are rich in data.  They indicate the game, the inning, the batter, the type of hit, the direction of the hit, the number of runners on base etc. We'll take a look at the event codes a bit later to get some impression of the depth of information.  There are 191,996 events recorded for 2017.  There were 81\\*30 or 2430 scheduled games in 2017. This yields, on average, about 79 events per game."
   ]
  },
  {
   "cell_type": "code",
   "execution_count": null,
   "metadata": {},
   "outputs": [],
   "source": [
    "import pandas as pd\n",
    "import os\n",
    "import matplotlib"
   ]
  },
  {
   "cell_type": "markdown",
   "metadata": {},
   "source": [
    "# % and %% are ipthyon 'magics'\n",
    "# ! is ipython's shell execution shortcut"
   ]
  },
  {
   "cell_type": "markdown",
   "metadata": {
    "scrolled": false
   },
   "source": [
    "%history"
   ]
  },
  {
   "cell_type": "code",
   "execution_count": null,
   "metadata": {},
   "outputs": [],
   "source": [
    "!ls data_public/*.EV*"
   ]
  },
  {
   "cell_type": "code",
   "execution_count": null,
   "metadata": {},
   "outputs": [],
   "source": [
    "%%sh\n",
    "head -3 data_public/2017CHA.EVA\n",
    "echo \"\"\n",
    "echo 'data_public/2017CHA.EVA'\n",
    "echo \"\"\n",
    "sort -k2 -t, data_public/2017CHA.EVA |head -5"
   ]
  },
  {
   "cell_type": "markdown",
   "metadata": {},
   "source": [
    "#### Useful techniques for interacting with the shell\n",
    "\n",
    "* <b>Use assignment to capture the ouput of your ! command</b>"
   ]
  },
  {
   "cell_type": "code",
   "execution_count": null,
   "metadata": {},
   "outputs": [],
   "source": [
    "files = !ls"
   ]
  },
  {
   "cell_type": "code",
   "execution_count": null,
   "metadata": {},
   "outputs": [],
   "source": [
    "type(files)"
   ]
  },
  {
   "cell_type": "code",
   "execution_count": null,
   "metadata": {},
   "outputs": [],
   "source": [
    "files.grep('\\.i.*')"
   ]
  },
  {
   "cell_type": "code",
   "execution_count": null,
   "metadata": {},
   "outputs": [],
   "source": [
    "files.p"
   ]
  },
  {
   "cell_type": "markdown",
   "metadata": {},
   "source": [
    "## Passing Python output to the shell\n",
    "#### Here we'll do the opposite and more powerful technique\n",
    "* <b>We'll use Use {expression} to pass from ipython to the shell</b>"
   ]
  },
  {
   "cell_type": "code",
   "execution_count": null,
   "metadata": {},
   "outputs": [],
   "source": [
    "extension = 'ipynbb'"
   ]
  },
  {
   "cell_type": "code",
   "execution_count": null,
   "metadata": {},
   "outputs": [],
   "source": [
    "!ls *.{extension}"
   ]
  },
  {
   "cell_type": "markdown",
   "metadata": {},
   "source": [
    "* Hmm... Extra trailing 'b'. Lets take a slice of the extension string"
   ]
  },
  {
   "cell_type": "code",
   "execution_count": null,
   "metadata": {
    "scrolled": true
   },
   "outputs": [],
   "source": [
    "!ls *.{extension[0:-1]}"
   ]
  },
  {
   "cell_type": "markdown",
   "metadata": {},
   "source": [
    "### This shows us a few techniques and examples. <br> In the following section, we'll use these techniques to bring in the data set that we'll use for our analysis."
   ]
  },
  {
   "cell_type": "markdown",
   "metadata": {},
   "source": [
    "### Here we're preparing the file.  Run the cwevent executable with -n and capture the header"
   ]
  },
  {
   "cell_type": "code",
   "execution_count": null,
   "metadata": {},
   "outputs": [],
   "source": [
    "#Chadwick expects a 'team' file in the cwd\n",
    "!ln -s ./data_public/TEAM2017 team"
   ]
  },
  {
   "cell_type": "code",
   "execution_count": null,
   "metadata": {
    "scrolled": true
   },
   "outputs": [],
   "source": [
    "! cwevent -n data_public/2017SEA.EVA |head -1 >data_public/atbats.txt"
   ]
  },
  {
   "cell_type": "markdown",
   "metadata": {},
   "source": [
    "### Now we'll shell out and run a loop to invoke the converter on each event file.  We'll also concatentate the roster files in a separate command"
   ]
  },
  {
   "cell_type": "code",
   "execution_count": null,
   "metadata": {},
   "outputs": [],
   "source": [
    "%%sh\n",
    "for x in $(ls -1 data_public/*.EV*); do cwevent $x >>data_public/atbats.txt; done\n",
    "cat data_public/*.ROS >data_public/rosters.txt"
   ]
  },
  {
   "cell_type": "markdown",
   "metadata": {},
   "source": [
    "### Standard Python file to dictionary\n",
    "* Constants for event codes"
   ]
  },
  {
   "cell_type": "code",
   "execution_count": null,
   "metadata": {},
   "outputs": [],
   "source": [
    "event_code = {}\n",
    "with open(\"data_public/event_codes.txt\") as f:\n",
    "    for line in f:\n",
    "       (val, key) = line.split()\n",
    "       event_code[key] = int(val)"
   ]
  },
  {
   "cell_type": "code",
   "execution_count": 101,
   "metadata": {},
   "outputs": [
    {
     "data": {
      "text/plain": [
       "{'UNK': 0,\n",
       " 'NONE': 1,\n",
       " 'GENERIC_OUT': 2,\n",
       " 'K': 3,\n",
       " 'SB': 4,\n",
       " 'DEF_INDIFFERENCE': 5,\n",
       " 'SB_CAUGHT': 6,\n",
       " 'ERROR_PICKOFF': 7,\n",
       " 'PICKOFF': 8,\n",
       " 'WP': 9,\n",
       " 'PB': 10,\n",
       " 'BK': 11,\n",
       " 'OTHER_ADVANCE': 12,\n",
       " 'ERROR_FOUL': 13,\n",
       " 'BB': 14,\n",
       " 'IBB': 15,\n",
       " 'HBP': 16,\n",
       " 'INTERFERENCE': 17,\n",
       " 'ERROR': 18,\n",
       " 'FC': 19,\n",
       " 'SINGLE': 20,\n",
       " 'DOUBLE': 21,\n",
       " 'TRIPLE': 22,\n",
       " 'HR': 23,\n",
       " 'MISSING': 24}"
      ]
     },
     "execution_count": 101,
     "metadata": {},
     "output_type": "execute_result"
    }
   ],
   "source": [
    "event_code"
   ]
  },
  {
   "cell_type": "code",
   "execution_count": null,
   "metadata": {},
   "outputs": [],
   "source": [
    "df_events=pd.read_csv('./data_public/atbats.txt')\n",
    "df_players=pd.read_csv('./data_public/players.txt')"
   ]
  },
  {
   "cell_type": "markdown",
   "metadata": {},
   "source": [
    "### Here are a few Pandas tools for getting an overview of a dataframe"
   ]
  },
  {
   "cell_type": "code",
   "execution_count": 87,
   "metadata": {},
   "outputs": [
    {
     "data": {
      "text/plain": [
       "(191196, 36)"
      ]
     },
     "execution_count": 87,
     "metadata": {},
     "output_type": "execute_result"
    }
   ],
   "source": [
    "df_events.shape"
   ]
  },
  {
   "cell_type": "code",
   "execution_count": 88,
   "metadata": {},
   "outputs": [
    {
     "data": {
      "text/plain": [
       "Index(['GAME_ID', 'AWAY_TEAM_ID', 'INN_CT', 'BAT_HOME_ID', 'OUTS_CT',\n",
       "       'BALLS_CT', 'STRIKES_CT', 'AWAY_SCORE_CT', 'HOME_SCORE_CT',\n",
       "       'RESP_BAT_ID', 'RESP_BAT_HAND_CD', 'RESP_PIT_ID', 'RESP_PIT_HAND_CD',\n",
       "       'BASE1_RUN_ID', 'BASE2_RUN_ID', 'BASE3_RUN_ID', 'EVENT_TX',\n",
       "       'LEADOFF_FL', 'PH_FL', 'BAT_FLD_CD', 'BAT_LINEUP_ID', 'EVENT_CD',\n",
       "       'BAT_EVENT_FL', 'AB_FL', 'H_CD', 'SH_FL', 'SF_FL', 'EVENT_OUTS_CT',\n",
       "       'RBI_CT', 'WP_FL', 'PB_FL', 'ERR_CT', 'BAT_DEST_ID', 'RUN1_DEST_ID',\n",
       "       'RUN2_DEST_ID', 'RUN3_DEST_ID'],\n",
       "      dtype='object')"
      ]
     },
     "execution_count": 88,
     "metadata": {},
     "output_type": "execute_result"
    }
   ],
   "source": [
    "df_events.columns"
   ]
  },
  {
   "cell_type": "code",
   "execution_count": 89,
   "metadata": {},
   "outputs": [
    {
     "data": {
      "text/html": [
       "<div>\n",
       "<style scoped>\n",
       "    .dataframe tbody tr th:only-of-type {\n",
       "        vertical-align: middle;\n",
       "    }\n",
       "\n",
       "    .dataframe tbody tr th {\n",
       "        vertical-align: top;\n",
       "    }\n",
       "\n",
       "    .dataframe thead th {\n",
       "        text-align: right;\n",
       "    }\n",
       "</style>\n",
       "<table border=\"1\" class=\"dataframe\">\n",
       "  <thead>\n",
       "    <tr style=\"text-align: right;\">\n",
       "      <th></th>\n",
       "      <th>GAME_ID</th>\n",
       "      <th>AWAY_TEAM_ID</th>\n",
       "      <th>INN_CT</th>\n",
       "      <th>BAT_HOME_ID</th>\n",
       "      <th>OUTS_CT</th>\n",
       "      <th>BALLS_CT</th>\n",
       "      <th>STRIKES_CT</th>\n",
       "      <th>AWAY_SCORE_CT</th>\n",
       "      <th>HOME_SCORE_CT</th>\n",
       "      <th>RESP_BAT_ID</th>\n",
       "      <th>...</th>\n",
       "      <th>SF_FL</th>\n",
       "      <th>EVENT_OUTS_CT</th>\n",
       "      <th>RBI_CT</th>\n",
       "      <th>WP_FL</th>\n",
       "      <th>PB_FL</th>\n",
       "      <th>ERR_CT</th>\n",
       "      <th>BAT_DEST_ID</th>\n",
       "      <th>RUN1_DEST_ID</th>\n",
       "      <th>RUN2_DEST_ID</th>\n",
       "      <th>RUN3_DEST_ID</th>\n",
       "    </tr>\n",
       "  </thead>\n",
       "  <tbody>\n",
       "    <tr>\n",
       "      <th>0</th>\n",
       "      <td>ANA201704070</td>\n",
       "      <td>SEA</td>\n",
       "      <td>1</td>\n",
       "      <td>0</td>\n",
       "      <td>0</td>\n",
       "      <td>3</td>\n",
       "      <td>2</td>\n",
       "      <td>0</td>\n",
       "      <td>0</td>\n",
       "      <td>seguj002</td>\n",
       "      <td>...</td>\n",
       "      <td>F</td>\n",
       "      <td>0</td>\n",
       "      <td>0</td>\n",
       "      <td>F</td>\n",
       "      <td>F</td>\n",
       "      <td>0</td>\n",
       "      <td>1</td>\n",
       "      <td>0</td>\n",
       "      <td>0</td>\n",
       "      <td>0</td>\n",
       "    </tr>\n",
       "    <tr>\n",
       "      <th>1</th>\n",
       "      <td>ANA201704070</td>\n",
       "      <td>SEA</td>\n",
       "      <td>1</td>\n",
       "      <td>0</td>\n",
       "      <td>0</td>\n",
       "      <td>1</td>\n",
       "      <td>2</td>\n",
       "      <td>0</td>\n",
       "      <td>0</td>\n",
       "      <td>hanim001</td>\n",
       "      <td>...</td>\n",
       "      <td>F</td>\n",
       "      <td>1</td>\n",
       "      <td>0</td>\n",
       "      <td>F</td>\n",
       "      <td>F</td>\n",
       "      <td>0</td>\n",
       "      <td>0</td>\n",
       "      <td>1</td>\n",
       "      <td>0</td>\n",
       "      <td>0</td>\n",
       "    </tr>\n",
       "    <tr>\n",
       "      <th>2</th>\n",
       "      <td>ANA201704070</td>\n",
       "      <td>SEA</td>\n",
       "      <td>1</td>\n",
       "      <td>0</td>\n",
       "      <td>1</td>\n",
       "      <td>1</td>\n",
       "      <td>1</td>\n",
       "      <td>0</td>\n",
       "      <td>0</td>\n",
       "      <td>canor001</td>\n",
       "      <td>...</td>\n",
       "      <td>F</td>\n",
       "      <td>1</td>\n",
       "      <td>0</td>\n",
       "      <td>F</td>\n",
       "      <td>F</td>\n",
       "      <td>0</td>\n",
       "      <td>0</td>\n",
       "      <td>1</td>\n",
       "      <td>0</td>\n",
       "      <td>0</td>\n",
       "    </tr>\n",
       "    <tr>\n",
       "      <th>3</th>\n",
       "      <td>ANA201704070</td>\n",
       "      <td>SEA</td>\n",
       "      <td>1</td>\n",
       "      <td>0</td>\n",
       "      <td>2</td>\n",
       "      <td>0</td>\n",
       "      <td>1</td>\n",
       "      <td>0</td>\n",
       "      <td>0</td>\n",
       "      <td>cruzn002</td>\n",
       "      <td>...</td>\n",
       "      <td>F</td>\n",
       "      <td>0</td>\n",
       "      <td>0</td>\n",
       "      <td>F</td>\n",
       "      <td>F</td>\n",
       "      <td>0</td>\n",
       "      <td>0</td>\n",
       "      <td>2</td>\n",
       "      <td>0</td>\n",
       "      <td>0</td>\n",
       "    </tr>\n",
       "    <tr>\n",
       "      <th>4</th>\n",
       "      <td>ANA201704070</td>\n",
       "      <td>SEA</td>\n",
       "      <td>1</td>\n",
       "      <td>0</td>\n",
       "      <td>2</td>\n",
       "      <td>2</td>\n",
       "      <td>2</td>\n",
       "      <td>0</td>\n",
       "      <td>0</td>\n",
       "      <td>cruzn002</td>\n",
       "      <td>...</td>\n",
       "      <td>F</td>\n",
       "      <td>1</td>\n",
       "      <td>0</td>\n",
       "      <td>F</td>\n",
       "      <td>F</td>\n",
       "      <td>0</td>\n",
       "      <td>0</td>\n",
       "      <td>0</td>\n",
       "      <td>2</td>\n",
       "      <td>0</td>\n",
       "    </tr>\n",
       "  </tbody>\n",
       "</table>\n",
       "<p>5 rows × 36 columns</p>\n",
       "</div>"
      ],
      "text/plain": [
       "        GAME_ID AWAY_TEAM_ID  INN_CT  BAT_HOME_ID  OUTS_CT  BALLS_CT  \\\n",
       "0  ANA201704070          SEA       1            0        0         3   \n",
       "1  ANA201704070          SEA       1            0        0         1   \n",
       "2  ANA201704070          SEA       1            0        1         1   \n",
       "3  ANA201704070          SEA       1            0        2         0   \n",
       "4  ANA201704070          SEA       1            0        2         2   \n",
       "\n",
       "   STRIKES_CT  AWAY_SCORE_CT  HOME_SCORE_CT RESP_BAT_ID      ...      SF_FL  \\\n",
       "0           2              0              0    seguj002      ...          F   \n",
       "1           2              0              0    hanim001      ...          F   \n",
       "2           1              0              0    canor001      ...          F   \n",
       "3           1              0              0    cruzn002      ...          F   \n",
       "4           2              0              0    cruzn002      ...          F   \n",
       "\n",
       "  EVENT_OUTS_CT RBI_CT WP_FL PB_FL ERR_CT BAT_DEST_ID RUN1_DEST_ID  \\\n",
       "0             0      0     F     F      0           1            0   \n",
       "1             1      0     F     F      0           0            1   \n",
       "2             1      0     F     F      0           0            1   \n",
       "3             0      0     F     F      0           0            2   \n",
       "4             1      0     F     F      0           0            0   \n",
       "\n",
       "  RUN2_DEST_ID  RUN3_DEST_ID  \n",
       "0            0             0  \n",
       "1            0             0  \n",
       "2            0             0  \n",
       "3            0             0  \n",
       "4            2             0  \n",
       "\n",
       "[5 rows x 36 columns]"
      ]
     },
     "execution_count": 89,
     "metadata": {},
     "output_type": "execute_result"
    }
   ],
   "source": [
    "df_events.head()"
   ]
  },
  {
   "cell_type": "code",
   "execution_count": 90,
   "metadata": {},
   "outputs": [
    {
     "name": "stdout",
     "output_type": "stream",
     "text": [
      "<class 'pandas.core.frame.DataFrame'>\n",
      "RangeIndex: 191196 entries, 0 to 191195\n",
      "Data columns (total 36 columns):\n",
      "GAME_ID             191196 non-null object\n",
      "AWAY_TEAM_ID        191196 non-null object\n",
      "INN_CT              191196 non-null int64\n",
      "BAT_HOME_ID         191196 non-null int64\n",
      "OUTS_CT             191196 non-null int64\n",
      "BALLS_CT            191196 non-null int64\n",
      "STRIKES_CT          191196 non-null int64\n",
      "AWAY_SCORE_CT       191196 non-null int64\n",
      "HOME_SCORE_CT       191196 non-null int64\n",
      "RESP_BAT_ID         191196 non-null object\n",
      "RESP_BAT_HAND_CD    191196 non-null object\n",
      "RESP_PIT_ID         191196 non-null object\n",
      "RESP_PIT_HAND_CD    191196 non-null object\n",
      "BASE1_RUN_ID        61225 non-null object\n",
      "BASE2_RUN_ID        37543 non-null object\n",
      "BASE3_RUN_ID        19364 non-null object\n",
      "EVENT_TX            191196 non-null object\n",
      "LEADOFF_FL          191196 non-null object\n",
      "PH_FL               191196 non-null object\n",
      "BAT_FLD_CD          191196 non-null int64\n",
      "BAT_LINEUP_ID       191196 non-null int64\n",
      "EVENT_CD            191196 non-null int64\n",
      "BAT_EVENT_FL        191196 non-null object\n",
      "AB_FL               191196 non-null object\n",
      "H_CD                191196 non-null int64\n",
      "SH_FL               191196 non-null object\n",
      "SF_FL               191196 non-null object\n",
      "EVENT_OUTS_CT       191196 non-null int64\n",
      "RBI_CT              191196 non-null int64\n",
      "WP_FL               191196 non-null object\n",
      "PB_FL               191196 non-null object\n",
      "ERR_CT              191196 non-null int64\n",
      "BAT_DEST_ID         191196 non-null int64\n",
      "RUN1_DEST_ID        191196 non-null int64\n",
      "RUN2_DEST_ID        191196 non-null int64\n",
      "RUN3_DEST_ID        191196 non-null int64\n",
      "dtypes: int64(18), object(18)\n",
      "memory usage: 52.5+ MB\n"
     ]
    }
   ],
   "source": [
    "df_events.info()"
   ]
  },
  {
   "cell_type": "markdown",
   "metadata": {},
   "source": [
    "### Now we'll look at a few pandas techniques\n",
    "* First we'll restrict the dataframe to a single column\n",
    "* Next we'll restrict the dataframe to a set of columns\n",
    "* Third we'll breakdown the contants of a column\n",
    "* Fourth we'll use value_counts() to get a summary"
   ]
  },
  {
   "cell_type": "code",
   "execution_count": 94,
   "metadata": {},
   "outputs": [
    {
     "data": {
      "text/plain": [
       "0    ANA201704070\n",
       "1    ANA201704070\n",
       "2    ANA201704070\n",
       "3    ANA201704070\n",
       "4    ANA201704070\n",
       "Name: GAME_ID, dtype: object"
      ]
     },
     "execution_count": 94,
     "metadata": {},
     "output_type": "execute_result"
    }
   ],
   "source": [
    "df_events['GAME_ID'].head()"
   ]
  },
  {
   "cell_type": "markdown",
   "metadata": {},
   "source": [
    "* Notice that we restrict with dataframe[] and provide a python list of the colums with ['item1','item2'....] resulting in doubling of the brackets"
   ]
  },
  {
   "cell_type": "code",
   "execution_count": 104,
   "metadata": {},
   "outputs": [
    {
     "data": {
      "text/html": [
       "<div>\n",
       "<style scoped>\n",
       "    .dataframe tbody tr th:only-of-type {\n",
       "        vertical-align: middle;\n",
       "    }\n",
       "\n",
       "    .dataframe tbody tr th {\n",
       "        vertical-align: top;\n",
       "    }\n",
       "\n",
       "    .dataframe thead th {\n",
       "        text-align: right;\n",
       "    }\n",
       "</style>\n",
       "<table border=\"1\" class=\"dataframe\">\n",
       "  <thead>\n",
       "    <tr style=\"text-align: right;\">\n",
       "      <th></th>\n",
       "      <th>GAME_ID</th>\n",
       "      <th>AWAY_TEAM_ID</th>\n",
       "      <th>BALLS_CT</th>\n",
       "      <th>RESP_BAT_ID</th>\n",
       "      <th>OUTS_CT</th>\n",
       "      <th>EVENT_CD</th>\n",
       "    </tr>\n",
       "  </thead>\n",
       "  <tbody>\n",
       "    <tr>\n",
       "      <th>0</th>\n",
       "      <td>ANA201704070</td>\n",
       "      <td>SEA</td>\n",
       "      <td>3</td>\n",
       "      <td>seguj002</td>\n",
       "      <td>0</td>\n",
       "      <td>14</td>\n",
       "    </tr>\n",
       "    <tr>\n",
       "      <th>1</th>\n",
       "      <td>ANA201704070</td>\n",
       "      <td>SEA</td>\n",
       "      <td>1</td>\n",
       "      <td>hanim001</td>\n",
       "      <td>0</td>\n",
       "      <td>3</td>\n",
       "    </tr>\n",
       "    <tr>\n",
       "      <th>2</th>\n",
       "      <td>ANA201704070</td>\n",
       "      <td>SEA</td>\n",
       "      <td>1</td>\n",
       "      <td>canor001</td>\n",
       "      <td>1</td>\n",
       "      <td>2</td>\n",
       "    </tr>\n",
       "    <tr>\n",
       "      <th>3</th>\n",
       "      <td>ANA201704070</td>\n",
       "      <td>SEA</td>\n",
       "      <td>0</td>\n",
       "      <td>cruzn002</td>\n",
       "      <td>2</td>\n",
       "      <td>4</td>\n",
       "    </tr>\n",
       "    <tr>\n",
       "      <th>4</th>\n",
       "      <td>ANA201704070</td>\n",
       "      <td>SEA</td>\n",
       "      <td>2</td>\n",
       "      <td>cruzn002</td>\n",
       "      <td>2</td>\n",
       "      <td>3</td>\n",
       "    </tr>\n",
       "  </tbody>\n",
       "</table>\n",
       "</div>"
      ],
      "text/plain": [
       "        GAME_ID AWAY_TEAM_ID  BALLS_CT RESP_BAT_ID  OUTS_CT  EVENT_CD\n",
       "0  ANA201704070          SEA         3    seguj002        0        14\n",
       "1  ANA201704070          SEA         1    hanim001        0         3\n",
       "2  ANA201704070          SEA         1    canor001        1         2\n",
       "3  ANA201704070          SEA         0    cruzn002        2         4\n",
       "4  ANA201704070          SEA         2    cruzn002        2         3"
      ]
     },
     "execution_count": 104,
     "metadata": {},
     "output_type": "execute_result"
    }
   ],
   "source": [
    "df_events[['GAME_ID','AWAY_TEAM_ID','BALLS_CT','RESP_BAT_ID','OUTS_CT','EVENT_CD']].head()"
   ]
  },
  {
   "cell_type": "code",
   "execution_count": 93,
   "metadata": {
    "scrolled": true
   },
   "outputs": [
    {
     "data": {
      "text/plain": [
       "0    ANA\n",
       "1    ANA\n",
       "2    ANA\n",
       "3    ANA\n",
       "4    ANA\n",
       "Name: GAME_ID, dtype: object"
      ]
     },
     "execution_count": 93,
     "metadata": {},
     "output_type": "execute_result"
    }
   ],
   "source": [
    "df_events['GAME_ID'].str[0:3].head()"
   ]
  },
  {
   "cell_type": "markdown",
   "metadata": {},
   "source": [
    "### Here we apply the series.value_counts( ) method to return a seri "
   ]
  },
  {
   "cell_type": "code",
   "execution_count": 108,
   "metadata": {},
   "outputs": [
    {
     "data": {
      "text/plain": [
       "DET    6547\n",
       "BOS    6542\n",
       "TEX    6530\n",
       "MIN    6525\n",
       "CHN    6483\n",
       "BAL    6471\n",
       "ATL    6440\n",
       "ARI    6439\n",
       "OAK    6435\n",
       "SFN    6433\n",
       "CIN    6433\n",
       "MIL    6426\n",
       "COL    6420\n",
       "PIT    6411\n",
       "PHI    6407\n",
       "MIA    6403\n",
       "WAS    6370\n",
       "NYN    6369\n",
       "CHA    6336\n",
       "SLN    6327\n",
       "SEA    6325\n",
       "NYA    6320\n",
       "HOU    6310\n",
       "TBA    6290\n",
       "TOR    6248\n",
       "KCA    6244\n",
       "ANA    6230\n",
       "CLE    6185\n",
       "LAN    6169\n",
       "SDN    6128\n",
       "Name: GAME_ID, dtype: int64"
      ]
     },
     "execution_count": 108,
     "metadata": {},
     "output_type": "execute_result"
    }
   ],
   "source": [
    "df_events['GAME_ID'].str[0:3].value_counts()"
   ]
  },
  {
   "cell_type": "markdown",
   "metadata": {},
   "source": [
    "### Let's look at the data quickly to get a bit of a better idea of what's in the files"
   ]
  },
  {
   "cell_type": "code",
   "execution_count": 104,
   "metadata": {},
   "outputs": [
    {
     "data": {
      "text/html": [
       "<div>\n",
       "<style scoped>\n",
       "    .dataframe tbody tr th:only-of-type {\n",
       "        vertical-align: middle;\n",
       "    }\n",
       "\n",
       "    .dataframe tbody tr th {\n",
       "        vertical-align: top;\n",
       "    }\n",
       "\n",
       "    .dataframe thead th {\n",
       "        text-align: right;\n",
       "    }\n",
       "</style>\n",
       "<table border=\"1\" class=\"dataframe\">\n",
       "  <thead>\n",
       "    <tr style=\"text-align: right;\">\n",
       "      <th></th>\n",
       "      <th>GAME_ID</th>\n",
       "      <th>AWAY_TEAM_ID</th>\n",
       "      <th>BALLS_CT</th>\n",
       "      <th>RESP_BAT_ID</th>\n",
       "      <th>OUTS_CT</th>\n",
       "      <th>EVENT_CD</th>\n",
       "    </tr>\n",
       "  </thead>\n",
       "  <tbody>\n",
       "    <tr>\n",
       "      <th>0</th>\n",
       "      <td>ANA201704070</td>\n",
       "      <td>SEA</td>\n",
       "      <td>3</td>\n",
       "      <td>seguj002</td>\n",
       "      <td>0</td>\n",
       "      <td>14</td>\n",
       "    </tr>\n",
       "    <tr>\n",
       "      <th>1</th>\n",
       "      <td>ANA201704070</td>\n",
       "      <td>SEA</td>\n",
       "      <td>1</td>\n",
       "      <td>hanim001</td>\n",
       "      <td>0</td>\n",
       "      <td>3</td>\n",
       "    </tr>\n",
       "    <tr>\n",
       "      <th>2</th>\n",
       "      <td>ANA201704070</td>\n",
       "      <td>SEA</td>\n",
       "      <td>1</td>\n",
       "      <td>canor001</td>\n",
       "      <td>1</td>\n",
       "      <td>2</td>\n",
       "    </tr>\n",
       "    <tr>\n",
       "      <th>3</th>\n",
       "      <td>ANA201704070</td>\n",
       "      <td>SEA</td>\n",
       "      <td>0</td>\n",
       "      <td>cruzn002</td>\n",
       "      <td>2</td>\n",
       "      <td>4</td>\n",
       "    </tr>\n",
       "    <tr>\n",
       "      <th>4</th>\n",
       "      <td>ANA201704070</td>\n",
       "      <td>SEA</td>\n",
       "      <td>2</td>\n",
       "      <td>cruzn002</td>\n",
       "      <td>2</td>\n",
       "      <td>3</td>\n",
       "    </tr>\n",
       "  </tbody>\n",
       "</table>\n",
       "</div>"
      ],
      "text/plain": [
       "        GAME_ID AWAY_TEAM_ID  BALLS_CT RESP_BAT_ID  OUTS_CT  EVENT_CD\n",
       "0  ANA201704070          SEA         3    seguj002        0        14\n",
       "1  ANA201704070          SEA         1    hanim001        0         3\n",
       "2  ANA201704070          SEA         1    canor001        1         2\n",
       "3  ANA201704070          SEA         0    cruzn002        2         4\n",
       "4  ANA201704070          SEA         2    cruzn002        2         3"
      ]
     },
     "execution_count": 104,
     "metadata": {},
     "output_type": "execute_result"
    }
   ],
   "source": [
    "df_events[['GAME_ID','AWAY_TEAM_ID','BALLS_CT','RESP_BAT_ID','OUTS_CT','EVENT_CD']].head()"
   ]
  },
  {
   "cell_type": "markdown",
   "metadata": {},
   "source": [
    "* Note above that there are two consecutive events for the same batter (cruzn002).  We'll use the pandas indexed lookup method (.iloc) to convert a row of the dataframe into a series whose index is the column name and values are the data from that row. Event codes here are 14=walk, 3=K, 2=generic out and 4=stolen base"
   ]
  },
  {
   "cell_type": "code",
   "execution_count": 105,
   "metadata": {},
   "outputs": [
    {
     "data": {
      "text/plain": [
       "4"
      ]
     },
     "execution_count": 105,
     "metadata": {},
     "output_type": "execute_result"
    }
   ],
   "source": [
    "df_events.iloc[3].loc['EVENT_CD']"
   ]
  },
  {
   "cell_type": "code",
   "execution_count": null,
   "metadata": {},
   "outputs": [],
   "source": [
    "type(df_events['AWAY_TEAM_ID'].value_counts())"
   ]
  },
  {
   "cell_type": "code",
   "execution_count": null,
   "metadata": {},
   "outputs": [],
   "source": [
    "df_events['AWAY_TEAM_ID'].value_counts().index"
   ]
  },
  {
   "cell_type": "markdown",
   "metadata": {},
   "source": [
    "#### This shows us a few techniques and examples. <br> In the following section, we'll use these techniques to bring in the data set that we'll use for our analysis."
   ]
  },
  {
   "cell_type": "code",
   "execution_count": null,
   "metadata": {},
   "outputs": [],
   "source": [
    "flt_homers = df_events['EVENT_CD'] == 23\n",
    "flt_redsox = (df_events['GAME_ID'].str.startswith('BOS')) | (df_events['AWAY_TEAM_ID'] == 'BOS')\n",
    "flt_yankees = (df_events['GAME_ID'].str.startswith('NYA')) | (df_events['AWAY_TEAM_ID'] == 'NYA')"
   ]
  },
  {
   "cell_type": "code",
   "execution_count": null,
   "metadata": {},
   "outputs": [],
   "source": [
    "filters = {}\n",
    "for team in df_events['AWAY_TEAM_ID'].value_counts().index:\n",
    "   filters[team] = (df_events['GAME_ID'].str.startswith(team)) | (df_events['AWAY_TEAM_ID'] == team)"
   ]
  },
  {
   "cell_type": "code",
   "execution_count": null,
   "metadata": {},
   "outputs": [],
   "source": [
    "df_events[(filters['BOS']) & (~df_events['GAME_ID'].str.startswith('BOS'))]['EVENT_CD'].value_counts()[13]"
   ]
  },
  {
   "cell_type": "code",
   "execution_count": null,
   "metadata": {},
   "outputs": [],
   "source": [
    "df_events[(filters['BOS']) & (df_events['EVENT_CD'] == 13)].shape"
   ]
  },
  {
   "cell_type": "code",
   "execution_count": null,
   "metadata": {},
   "outputs": [],
   "source": [
    "df_events.columns"
   ]
  },
  {
   "cell_type": "code",
   "execution_count": null,
   "metadata": {},
   "outputs": [],
   "source": [
    "len(df_events.GAME_ID.value_counts())"
   ]
  },
  {
   "cell_type": "code",
   "execution_count": null,
   "metadata": {},
   "outputs": [],
   "source": [
    "df_events[flt_redsox]['GAME_ID'].shape"
   ]
  },
  {
   "cell_type": "code",
   "execution_count": null,
   "metadata": {},
   "outputs": [],
   "source": [
    "df_events[flt_redsox & flt_homers]['BAT_HOME_ID'].value_counts()"
   ]
  },
  {
   "cell_type": "code",
   "execution_count": null,
   "metadata": {},
   "outputs": [],
   "source": [
    "for filter in filters:\n",
    "    print(filter)\n",
    "    print(df_events[filters[filter] & flt_homers]['BAT_HOME_ID'].value_counts())"
   ]
  },
  {
   "cell_type": "code",
   "execution_count": null,
   "metadata": {},
   "outputs": [],
   "source": [
    "df_events['GAME_ID'].str.startswith('BOS').value_counts()"
   ]
  },
  {
   "cell_type": "code",
   "execution_count": null,
   "metadata": {},
   "outputs": [],
   "source": []
  },
  {
   "cell_type": "code",
   "execution_count": null,
   "metadata": {},
   "outputs": [],
   "source": [
    "grp_teams_homers = df_events.groupby([df_events['GAME_ID'].str[0:3], df_events['AWAY_TEAM_ID'], df_events['EVENT_CD']==23])"
   ]
  },
  {
   "cell_type": "code",
   "execution_count": null,
   "metadata": {
    "scrolled": true
   },
   "outputs": [],
   "source": [
    "grp_teams_homers['EVENT_CD'].count()"
   ]
  },
  {
   "cell_type": "code",
   "execution_count": null,
   "metadata": {},
   "outputs": [],
   "source": [
    "grp_away = df_events.groupby(df_events['AWAY_TEAM_ID'])\n",
    "grp_home = df_events.groupby(df_events['GAME_ID'].str[0:3])"
   ]
  },
  {
   "cell_type": "code",
   "execution_count": null,
   "metadata": {},
   "outputs": [],
   "source": [
    "grp_away[df_events[df_events['EVENT_CD'] == 23]].count()"
   ]
  },
  {
   "cell_type": "code",
   "execution_count": null,
   "metadata": {},
   "outputs": [],
   "source": [
    "df_events[df_events['EVENT_CD'] == 23]['EVENT_CD']"
   ]
  },
  {
   "cell_type": "code",
   "execution_count": null,
   "metadata": {
    "scrolled": true
   },
   "outputs": [],
   "source": [
    "df_events[df_events['EVENT_CD'] == 23]['RESP_BAT_ID'].value_counts()"
   ]
  },
  {
   "cell_type": "code",
   "execution_count": null,
   "metadata": {},
   "outputs": [],
   "source": [
    "%matplotlib inline"
   ]
  },
  {
   "cell_type": "markdown",
   "metadata": {},
   "source": []
  },
  {
   "cell_type": "code",
   "execution_count": null,
   "metadata": {},
   "outputs": [],
   "source": [
    "grp_home['EVENT_CD'].head()"
   ]
  },
  {
   "cell_type": "code",
   "execution_count": null,
   "metadata": {},
   "outputs": [],
   "source": [
    "df_events[filters['NYA']"
   ]
  },
  {
   "cell_type": "code",
   "execution_count": null,
   "metadata": {},
   "outputs": [],
   "source": [
    "grp_hit_type=df_events.groupby('EVENT_CD')"
   ]
  },
  {
   "cell_type": "code",
   "execution_count": null,
   "metadata": {},
   "outputs": [],
   "source": [
    "grp_hit_type.describe()"
   ]
  },
  {
   "cell_type": "code",
   "execution_count": null,
   "metadata": {},
   "outputs": [],
   "source": [
    "for grpname,grprec in grp_hit_type:\n",
    "    print(grpname)\n",
    "    print(grprec)"
   ]
  },
  {
   "cell_type": "code",
   "execution_count": null,
   "metadata": {},
   "outputs": [],
   "source": [
    "df_events[df_events['EVENT_CD'] == 23].groupby([df_events['EVENT_CD'] == 23]['EVENT_CD'])"
   ]
  },
  {
   "cell_type": "code",
   "execution_count": null,
   "metadata": {},
   "outputs": [],
   "source": [
    "df_events[df_events['EVENT_CD' == 23]].groupby('BAT_HOME_ID').min()"
   ]
  },
  {
   "cell_type": "code",
   "execution_count": null,
   "metadata": {},
   "outputs": [],
   "source": [
    "for f in var:\n",
    "    print(f)\n",
    "    "
   ]
  },
  {
   "cell_type": "code",
   "execution_count": null,
   "metadata": {},
   "outputs": [],
   "source": [
    "type(var)"
   ]
  },
  {
   "cell_type": "code",
   "execution_count": null,
   "metadata": {},
   "outputs": [],
   "source": [
    "var.n"
   ]
  },
  {
   "cell_type": "code",
   "execution_count": null,
   "metadata": {},
   "outputs": [],
   "source": [
    "type(var.p)"
   ]
  },
  {
   "cell_type": "code",
   "execution_count": null,
   "metadata": {},
   "outputs": [],
   "source": [
    "var.grep('^r.*')"
   ]
  },
  {
   "cell_type": "code",
   "execution_count": null,
   "metadata": {},
   "outputs": [],
   "source": [
    "flt = '*.ip*'"
   ]
  },
  {
   "cell_type": "code",
   "execution_count": null,
   "metadata": {},
   "outputs": [],
   "source": [
    "%ls {flt}"
   ]
  },
  {
   "cell_type": "code",
   "execution_count": null,
   "metadata": {},
   "outputs": [],
   "source": []
  }
 ],
 "metadata": {
  "kernelspec": {
   "display_name": "Python 3",
   "language": "python",
   "name": "python3"
  },
  "language_info": {
   "codemirror_mode": {
    "name": "ipython",
    "version": 3
   },
   "file_extension": ".py",
   "mimetype": "text/x-python",
   "name": "python",
   "nbconvert_exporter": "python",
   "pygments_lexer": "ipython3",
   "version": "3.7.0"
  }
 },
 "nbformat": 4,
 "nbformat_minor": 2
}
