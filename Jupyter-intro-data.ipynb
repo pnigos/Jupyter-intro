{
 "cells": [
  {
   "cell_type": "markdown",
   "metadata": {},
   "source": [
    "# This notebook prepares the primary data sets and visits some tips and techniques along the way\n",
    "\n",
    "* Full data pulled from retrosheet.org\n",
    "* Chadwick tools used for converting retrosheet data http://chadwick.sourceforge.net/doc/cwtools.html"
   ]
  },
  {
   "cell_type": "code",
   "execution_count": null,
   "metadata": {},
   "outputs": [],
   "source": [
    "import pandas as pd\n",
    "import os\n",
    "import matplotlib"
   ]
  },
  {
   "cell_type": "markdown",
   "metadata": {},
   "source": [
    "# % and %% are ipthyon 'magics'\n",
    "# ! is ipython's shell execution shortcut"
   ]
  },
  {
   "cell_type": "code",
   "execution_count": null,
   "metadata": {
    "scrolled": false
   },
   "outputs": [],
   "source": [
    "%history"
   ]
  },
  {
   "cell_type": "code",
   "execution_count": null,
   "metadata": {
    "scrolled": true
   },
   "outputs": [],
   "source": [
    "!ls data_public/*.EV*"
   ]
  },
  {
   "cell_type": "code",
   "execution_count": null,
   "metadata": {},
   "outputs": [],
   "source": [
    "%%sh\n",
    "head -3 data_public/2017CHA.EVA\n",
    "echo \"\"\n",
    "echo 'data_public/2017CHA.EVA'\n",
    "echo \"\"\n",
    "sort -k2 -t, data_public/2017CHA.EVA |head -5"
   ]
  },
  {
   "cell_type": "markdown",
   "metadata": {},
   "source": [
    "### Here we're preparing the file.  Run the cwevent executable with -n and capture the header"
   ]
  },
  {
   "cell_type": "code",
   "execution_count": null,
   "metadata": {},
   "outputs": [],
   "source": [
    "#Chadwick expects a 'team' file in the cwd\n",
    "!ln -s ./data_public/TEAM2017 team"
   ]
  },
  {
   "cell_type": "code",
   "execution_count": null,
   "metadata": {
    "scrolled": true
   },
   "outputs": [],
   "source": [
    "! cwevent -n data_public/2017SEA.EVA |head -1 >data_public/atbats.txt"
   ]
  },
  {
   "cell_type": "markdown",
   "metadata": {},
   "source": [
    "### Now we'll shell out and run a loop to invoke the converter on each event file.  We'll also concatentate the roster files in a separate command"
   ]
  },
  {
   "cell_type": "code",
   "execution_count": null,
   "metadata": {
    "scrolled": true
   },
   "outputs": [],
   "source": [
    "%%sh\n",
    "for x in $(ls -1 data_public/*.EV*); do cwevent $x >>data_public/atbats.txt; done\n",
    "cat data_public/*.ROS >data_public/rosters.txt"
   ]
  },
  {
   "cell_type": "markdown",
   "metadata": {},
   "source": [
    "### Standard Python file to dictionary\n",
    "* Constants for event codes"
   ]
  },
  {
   "cell_type": "code",
   "execution_count": null,
   "metadata": {},
   "outputs": [],
   "source": [
    "event_code = {}\n",
    "with open(\"data_public/event_codes.txt\") as f:\n",
    "    for line in f:\n",
    "       (val, key) = line.split()\n",
    "       event_codes[key] = int(val)"
   ]
  },
  {
   "cell_type": "markdown",
   "metadata": {},
   "source": [
    "#### Useful techniques for interacting with the shell\n",
    "\n",
    "* Use assignment to capture the ouput of your ! command"
   ]
  },
  {
   "cell_type": "code",
   "execution_count": 6,
   "metadata": {},
   "outputs": [],
   "source": [
    "files = !ls"
   ]
  },
  {
   "cell_type": "code",
   "execution_count": 7,
   "metadata": {},
   "outputs": [
    {
     "data": {
      "text/plain": [
       "IPython.utils.text.SList"
      ]
     },
     "execution_count": 7,
     "metadata": {},
     "output_type": "execute_result"
    }
   ],
   "source": [
    "type(files)"
   ]
  },
  {
   "cell_type": "code",
   "execution_count": 8,
   "metadata": {
    "collapsed": true
   },
   "outputs": [
    {
     "data": {
      "text/plain": [
       "{'TERM_PROGRAM': 'iTerm.app',\n",
       " 'TERM': 'xterm-color',\n",
       " 'SHELL': '/bin/bash',\n",
       " 'HISTSIZE': '',\n",
       " 'TMPDIR': '/var/folders/8g/2d4q5l3x087dj8dbzm5z3qkm0000gn/T/',\n",
       " 'Apple_PubSub_Socket_Render': '/private/tmp/com.apple.launchd.oCSKaKs53q/Render',\n",
       " 'TERM_PROGRAM_VERSION': '3.2.3',\n",
       " 'OLDPWD': '/Users/paulrodgers',\n",
       " 'TERM_SESSION_ID': 'w0t0p0:27AE8970-6145-4337-88A3-406A74A0AACC',\n",
       " 'LC_ALL': 'C',\n",
       " 'HISTFILESIZE': '',\n",
       " 'USER': 'paulrodgers',\n",
       " 'SSH_AUTH_SOCK': '/private/tmp/com.apple.launchd.HA5RQ3IO8s/Listeners',\n",
       " '__CF_USER_TEXT_ENCODING': '0x1F5:0x0:0x0',\n",
       " 'VIRTUAL_ENV': '/Users/paulrodgers/psr_dev/Salesforce/sfdc',\n",
       " 'PATH': '/Users/paulrodgers/psr_dev/Salesforce/sfdc/bin:/Users/paulrodgers/psr_dev/Salesforce/sfdc/bin:/usr/local/bin:/usr/bin:/bin:/usr/sbin:/sbin:/Library/TeX/texbin',\n",
       " 'PWD': '/Users/paulrodgers/psr_dev/Salesforce',\n",
       " 'LANG': 'en_US.UTF-8',\n",
       " 'ITERM_PROFILE': 'Default',\n",
       " 'XPC_FLAGS': '0x0',\n",
       " 'ITERM_ORIG_PS1': '(sfdc) \\\\[\\\\e[33m\\\\]\\\\w\\\\[\\\\e[m\\\\] \\\\[\\\\]',\n",
       " 'PS1': '(sfdc) \\\\[\\\\e[33m\\\\]\\\\w\\\\[\\\\e[m\\\\] \\\\[\\\\]',\n",
       " 'XPC_SERVICE_NAME': '0',\n",
       " 'SHLVL': '1',\n",
       " 'HOME': '/Users/paulrodgers',\n",
       " 'COLORFGBG': '15;0',\n",
       " 'ITERM_PREV_PS1': '\\\\[\\x1b]133;D;$?\\x07\\x1b]133;A\\x07\\\\](sfdc) \\\\[\\\\e[33m\\\\]\\\\w\\\\[\\\\e[m\\\\] \\\\[\\\\]\\\\[\\x1b]133;B\\x07\\\\]',\n",
       " 'ITERM_SESSION_ID': 'w0t0p0:27AE8970-6145-4337-88A3-406A74A0AACC',\n",
       " 'LOGNAME': 'paulrodgers',\n",
       " 'HISTTIMEFORMAT': '[%F %T] ',\n",
       " 'HISTFILE': '/Users/paulrodgers/.bash_eternal_history',\n",
       " 'COLORTERM': 'truecolor',\n",
       " '_': '/Users/paulrodgers/psr_dev/Salesforce/sfdc/bin/jupyter',\n",
       " '__PYVENV_LAUNCHER__': '/Users/paulrodgers/psr_dev/Salesforce/sfdc/bin/python3',\n",
       " 'JPY_PARENT_PID': '974',\n",
       " 'CLICOLOR': '1',\n",
       " 'PAGER': 'cat',\n",
       " 'GIT_PAGER': 'cat',\n",
       " 'MPLBACKEND': 'module://ipykernel.pylab.backend_inline'}"
      ]
     },
     "execution_count": 8,
     "metadata": {},
     "output_type": "execute_result"
    }
   ],
   "source": [
    "%env"
   ]
  },
  {
   "cell_type": "code",
   "execution_count": null,
   "metadata": {},
   "outputs": [],
   "source": [
    "files.grep('\\.i.*')"
   ]
  },
  {
   "cell_type": "markdown",
   "metadata": {},
   "source": [
    "* Use {expression} to pass from ipython to the shell"
   ]
  },
  {
   "cell_type": "code",
   "execution_count": null,
   "metadata": {},
   "outputs": [],
   "source": [
    "extension = 'ipynbb'"
   ]
  },
  {
   "cell_type": "code",
   "execution_count": null,
   "metadata": {},
   "outputs": [],
   "source": [
    "!ls *.{extension}"
   ]
  },
  {
   "cell_type": "markdown",
   "metadata": {},
   "source": [
    "* Hmm... Extra trailing 'b'. Lets take a slice of the extension string"
   ]
  },
  {
   "cell_type": "code",
   "execution_count": null,
   "metadata": {},
   "outputs": [],
   "source": [
    "!ls *.{extension[0:-1]}"
   ]
  },
  {
   "cell_type": "code",
   "execution_count": null,
   "metadata": {},
   "outputs": [],
   "source": [
    "df_atbats=pd.read_csv('./data_public/atbats.txt')\n",
    "df_players=pd.read_csv('./data_public/players.txt')"
   ]
  },
  {
   "cell_type": "code",
   "execution_count": null,
   "metadata": {},
   "outputs": [],
   "source": [
    "df_atbats.shape"
   ]
  },
  {
   "cell_type": "code",
   "execution_count": null,
   "metadata": {},
   "outputs": [],
   "source": [
    "df_atbats.head()"
   ]
  },
  {
   "cell_type": "code",
   "execution_count": null,
   "metadata": {
    "scrolled": true
   },
   "outputs": [],
   "source": [
    "df_atbats['GAME_ID'].str[0:3].value_counts()/162/9"
   ]
  },
  {
   "cell_type": "code",
   "execution_count": null,
   "metadata": {},
   "outputs": [],
   "source": [
    "type(df_atbats['AWAY_TEAM_ID'].value_counts())"
   ]
  },
  {
   "cell_type": "code",
   "execution_count": null,
   "metadata": {},
   "outputs": [],
   "source": [
    "df_atbats['AWAY_TEAM_ID'].value_counts().index"
   ]
  },
  {
   "cell_type": "markdown",
   "metadata": {},
   "source": [
    "# DATA ABOVE; Filters and Groups below"
   ]
  },
  {
   "cell_type": "markdown",
   "metadata": {},
   "source": []
  },
  {
   "cell_type": "code",
   "execution_count": null,
   "metadata": {},
   "outputs": [],
   "source": [
    "flt_homers = df_atbats['EVENT_CD'] == 23\n",
    "flt_redsox = (df_atbats['GAME_ID'].str.startswith('BOS')) | (df_atbats['AWAY_TEAM_ID'] == 'BOS')\n",
    "flt_yankees = (df_atbats['GAME_ID'].str.startswith('NYA')) | (df_atbats['AWAY_TEAM_ID'] == 'NYA')"
   ]
  },
  {
   "cell_type": "code",
   "execution_count": null,
   "metadata": {},
   "outputs": [],
   "source": [
    "filters = {}\n",
    "for team in df_atbats['AWAY_TEAM_ID'].value_counts().index:\n",
    "   filters[team] = (df_atbats['GAME_ID'].str.startswith(team)) | (df_atbats['AWAY_TEAM_ID'] == team)"
   ]
  },
  {
   "cell_type": "code",
   "execution_count": null,
   "metadata": {},
   "outputs": [],
   "source": [
    "df_atbats[(filters['BOS']) & (~df_atbats['GAME_ID'].str.startswith('BOS'))]['EVENT_CD'].value_counts()[13]"
   ]
  },
  {
   "cell_type": "code",
   "execution_count": null,
   "metadata": {},
   "outputs": [],
   "source": [
    "df_atbats[(filters['BOS']) & (df_atbats['EVENT_CD'] == 13)].shape"
   ]
  },
  {
   "cell_type": "code",
   "execution_count": null,
   "metadata": {},
   "outputs": [],
   "source": [
    "df_atbats.columns"
   ]
  },
  {
   "cell_type": "code",
   "execution_count": null,
   "metadata": {},
   "outputs": [],
   "source": [
    "len(df_atbats.GAME_ID.value_counts())"
   ]
  },
  {
   "cell_type": "code",
   "execution_count": null,
   "metadata": {},
   "outputs": [],
   "source": [
    "df_atbats[flt_redsox]['GAME_ID'].shape"
   ]
  },
  {
   "cell_type": "code",
   "execution_count": null,
   "metadata": {},
   "outputs": [],
   "source": [
    "df_atbats[flt_redsox & flt_homers]['BAT_HOME_ID'].value_counts()"
   ]
  },
  {
   "cell_type": "code",
   "execution_count": null,
   "metadata": {},
   "outputs": [],
   "source": [
    "for filter in filters:\n",
    "    print(filter)\n",
    "    print(df_atbats[filters[filter] & flt_homers]['BAT_HOME_ID'].value_counts())"
   ]
  },
  {
   "cell_type": "code",
   "execution_count": null,
   "metadata": {},
   "outputs": [],
   "source": [
    "df_atbats['GAME_ID'].str.startswith('BOS').value_counts()"
   ]
  },
  {
   "cell_type": "code",
   "execution_count": null,
   "metadata": {},
   "outputs": [],
   "source": []
  },
  {
   "cell_type": "code",
   "execution_count": null,
   "metadata": {},
   "outputs": [],
   "source": [
    "grp_teams_homers = df_atbats.groupby([df_atbats['GAME_ID'].str[0:3], df_atbats['AWAY_TEAM_ID'], df_atbats['EVENT_CD']==23])"
   ]
  },
  {
   "cell_type": "code",
   "execution_count": null,
   "metadata": {
    "scrolled": true
   },
   "outputs": [],
   "source": [
    "grp_teams_homers['EVENT_CD'].count()"
   ]
  },
  {
   "cell_type": "code",
   "execution_count": null,
   "metadata": {},
   "outputs": [],
   "source": [
    "grp_away = df_atbats.groupby(df_atbats['AWAY_TEAM_ID'])\n",
    "grp_home = df_atbats.groupby(df_atbats['GAME_ID'].str[0:3])"
   ]
  },
  {
   "cell_type": "code",
   "execution_count": null,
   "metadata": {},
   "outputs": [],
   "source": [
    "grp_away[df_atbats[df_atbats['EVENT_CD'] == 23]].count()"
   ]
  },
  {
   "cell_type": "code",
   "execution_count": null,
   "metadata": {},
   "outputs": [],
   "source": [
    "df_atbats[df_atbats['EVENT_CD'] == 23]['EVENT_CD']"
   ]
  },
  {
   "cell_type": "code",
   "execution_count": null,
   "metadata": {
    "scrolled": true
   },
   "outputs": [],
   "source": [
    "df_atbats[df_atbats['EVENT_CD'] == 23]['RESP_BAT_ID'].value_counts()"
   ]
  },
  {
   "cell_type": "code",
   "execution_count": null,
   "metadata": {},
   "outputs": [],
   "source": [
    "%matplotlib inline"
   ]
  },
  {
   "cell_type": "markdown",
   "metadata": {},
   "source": []
  },
  {
   "cell_type": "code",
   "execution_count": null,
   "metadata": {},
   "outputs": [],
   "source": [
    "grp_home['EVENT_CD'].head()"
   ]
  },
  {
   "cell_type": "code",
   "execution_count": null,
   "metadata": {},
   "outputs": [],
   "source": [
    "df_atbats[filters['NYA']"
   ]
  },
  {
   "cell_type": "code",
   "execution_count": null,
   "metadata": {},
   "outputs": [],
   "source": [
    "grp_hit_type=df_atbats.groupby('EVENT_CD')"
   ]
  },
  {
   "cell_type": "code",
   "execution_count": null,
   "metadata": {},
   "outputs": [],
   "source": [
    "grp_hit_type.describe()"
   ]
  },
  {
   "cell_type": "code",
   "execution_count": null,
   "metadata": {},
   "outputs": [],
   "source": [
    "for grpname,grprec in grp_hit_type:\n",
    "    print(grpname)\n",
    "    print(grprec)"
   ]
  },
  {
   "cell_type": "code",
   "execution_count": null,
   "metadata": {},
   "outputs": [],
   "source": [
    "df_atbats[df_atbats['EVENT_CD'] == 23].groupby([df_atbats['EVENT_CD'] == 23]['EVENT_CD'])"
   ]
  },
  {
   "cell_type": "code",
   "execution_count": null,
   "metadata": {},
   "outputs": [],
   "source": [
    "df_atbats[df_atbats['EVENT_CD' == 23]].groupby('BAT_HOME_ID').min()"
   ]
  },
  {
   "cell_type": "code",
   "execution_count": null,
   "metadata": {},
   "outputs": [],
   "source": [
    "for f in var:\n",
    "    print(f)\n",
    "    "
   ]
  },
  {
   "cell_type": "code",
   "execution_count": null,
   "metadata": {},
   "outputs": [],
   "source": [
    "type(var)"
   ]
  },
  {
   "cell_type": "code",
   "execution_count": null,
   "metadata": {},
   "outputs": [],
   "source": [
    "var.n"
   ]
  },
  {
   "cell_type": "code",
   "execution_count": null,
   "metadata": {},
   "outputs": [],
   "source": [
    "type(var.p)"
   ]
  },
  {
   "cell_type": "code",
   "execution_count": null,
   "metadata": {},
   "outputs": [],
   "source": [
    "var.grep('^r.*')"
   ]
  },
  {
   "cell_type": "code",
   "execution_count": null,
   "metadata": {},
   "outputs": [],
   "source": [
    "flt = '*.ip*'"
   ]
  },
  {
   "cell_type": "code",
   "execution_count": null,
   "metadata": {},
   "outputs": [],
   "source": [
    "%ls {flt}"
   ]
  },
  {
   "cell_type": "code",
   "execution_count": null,
   "metadata": {},
   "outputs": [],
   "source": []
  }
 ],
 "metadata": {
  "kernelspec": {
   "display_name": "Python 3",
   "language": "python",
   "name": "python3"
  }
 },
 "nbformat": 4,
 "nbformat_minor": 2
}
