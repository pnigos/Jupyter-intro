{
 "cells": [
  {
   "cell_type": "markdown",
   "metadata": {},
   "source": [
    "# Jupyter Introduction -- Paul Rodgers\n",
    "## What is it?\n",
    "* Interactive code execution environment\n",
    "* Tells a story \n",
    "  \n",
    "  Allows the use of data, code and rich content  \n",
    "  Enables the author to create a narrative   \n",
    "  Engages the audience  \n",
    "  Increases comprehension\n",
    "  \n",
    "## Who's using it?\n",
    "* Academics  \n",
    "* Journalists    \n",
    "* Data Scientists\n",
    "* Netfix!!\n",
    "\n",
    "## Why Notebooks?\n",
    "\n",
    "* Reproduceability\n",
    "* Sharing\n",
    "* Transparency\n",
    "\n",
    "## Who am I?\n",
    "* Sr. Data Analyst at Virgin Pulse\n",
    "* One of few people to have booted a PDP-8 and a Raspberry Pi\n",
    "* Early adopter\n",
    "  \n",
    "  Windows \n",
    "  Microsoft Certified Professional ~ 180  \n",
    "  Sybase on OS/2 2.0  \n",
    "  Built first web application in 1996  \n",
    "         Windows NT 3.1   \n",
    "         Netscape Navigator  \n",
    "         SQL Server  \n",
    "         Active Server Pages  \n",
    "  \n",
    "  \n",
    "  \n",
    "* Generalist\n",
    "\n",
    "  Built PCs  \n",
    "  Wired Networks  \n",
    "  Configured and installed Peer to Peer and Server (Novell and NT) networks  \n",
    "  Automated office workflows with Word, Visual Basic, Excel etc.  \n",
    "  Architecture and development of document repository for large scale ( >10^6 document) litigation database  \n",
    "  Currently using Python and Pandas for realtime unification of Salesforce and inhouse data stores\n",
    "* Evangalist\n",
    "* \n",
    "## Installing Jupyter\n",
    "### Virtual environment\n",
    "### [Kernels](#Kernel_Intros)\n",
    "### Operating Principles\n",
    "\n",
    "## A bit of History\n",
    "* 2001 - IPython Fernando Perez creates IPython\n",
    "\n",
    "  Interactive shell  \n",
    "  Features introspection, rich media, shell syntax, tab completion, and history  \n",
    "  \n",
    "*  IPython\n",
    "## Notebook Server\n",
    "* ZeroMQ for interprocess communications\n",
    "* Tornado for HTTP server\n",
    "\n",
    "## Security\n",
    "* Notebooks are inherently tied to a notebook server\n",
    "* Be definition, one runs arbitrary code on that server\n",
    "* Servers can provide disk access\n",
    "* Servers can be set shell commands\n",
    "* Jupyter OUTPUT is rendered in an exectutable environment (your browswer)\n",
    "* Anything that your browswer can do, Jupyter output can do\n",
    "\n",
    "## Server Security\n",
    "* Token authentication by default\n",
    "* Server instance token\n",
    "* Browser initialization token\n",
    "\n",
    "## Client Security\n",
    "\n",
    "### Inherent issues\n",
    "\n",
    "### Security Model\n",
    "* User responsibility\n",
    "* Output vs Input\n",
    "* Did the current user direct the action?\n",
    "\n",
    "## Interacting with the notebook\n",
    "## Magics\n",
    "## Interacting with the shell\n"
   ]
  },
  {
   "cell_type": "code",
   "execution_count": 4,
   "metadata": {},
   "outputs": [],
   "source": [
    "from IPython.display import HTML"
   ]
  },
  {
   "cell_type": "code",
   "execution_count": 5,
   "metadata": {
    "scrolled": true
   },
   "outputs": [
    {
     "name": "stdout",
     "output_type": "stream",
     "text": [
      "Total number of aliases: 12\n"
     ]
    },
    {
     "data": {
      "text/plain": [
       "[('cat', 'cat'),\n",
       " ('cp', 'cp'),\n",
       " ('ldir', 'ls -F -G -l %l | grep /$'),\n",
       " ('lf', 'ls -F -l -G %l | grep ^-'),\n",
       " ('lk', 'ls -F -l -G %l | grep ^l'),\n",
       " ('ll', 'ls -F -l -G'),\n",
       " ('ls', 'ls -F -G'),\n",
       " ('lx', 'ls -F -l -G %l | grep ^-..x'),\n",
       " ('mkdir', 'mkdir'),\n",
       " ('mv', 'mv'),\n",
       " ('rm', 'rm'),\n",
       " ('rmdir', 'rmdir')]"
      ]
     },
     "execution_count": 5,
     "metadata": {},
     "output_type": "execute_result"
    }
   ],
   "source": [
    "%alias"
   ]
  },
  {
   "cell_type": "code",
   "execution_count": 6,
   "metadata": {},
   "outputs": [
    {
     "name": "stdout",
     "output_type": "stream",
     "text": [
      "drwxr-xr-x   3 paulrodgers  staff     96 Jun  4 20:34 __pycache__/\r\n",
      "drwxr-xr-x  10 paulrodgers  staff    320 Jun  1 20:22 data/\r\n",
      "drwxr-xr-x   2 paulrodgers  staff     64 Aug  4 12:27 data_public/\r\n",
      "drwxr-xr-x   4 paulrodgers  staff    128 Jun 11 14:50 notebook/\r\n",
      "drwxr-xr-x  20 paulrodgers  staff    640 Jun 18 21:51 salesforce/\r\n",
      "drwxr-xr-x   9 paulrodgers  staff    288 May 29 23:45 sfdc/\r\n"
     ]
    }
   ],
   "source": [
    "%ldir "
   ]
  },
  {
   "cell_type": "code",
   "execution_count": 7,
   "metadata": {},
   "outputs": [],
   "source": [
    "%colors nocolor"
   ]
  },
  {
   "cell_type": "code",
   "execution_count": 8,
   "metadata": {},
   "outputs": [
    {
     "name": "stdout",
     "output_type": "stream",
     "text": [
      "Available objects for config:\n",
      "     AliasManager\n",
      "     DisplayFormatter\n",
      "     HistoryManager\n",
      "     IPCompleter\n",
      "     IPKernelApp\n",
      "     LoggingMagics\n",
      "     MagicsManager\n",
      "     PrefilterManager\n",
      "     ScriptMagics\n",
      "     StoreMagics\n",
      "     ZMQInteractiveShell\n"
     ]
    }
   ],
   "source": [
    "%config "
   ]
  },
  {
   "cell_type": "code",
   "execution_count": 9,
   "metadata": {},
   "outputs": [
    {
     "name": "stdout",
     "output_type": "stream",
     "text": [
      "HistoryManager options\n",
      "--------------------\n",
      "HistoryManager.connection_options=<Dict>\n",
      "    Current: {}\n",
      "    Options for configuring the SQLite connection\n",
      "    These options are passed as keyword args to sqlite3.connect when\n",
      "    establishing database connections.\n",
      "HistoryManager.db_cache_size=<Int>\n",
      "    Current: 0\n",
      "    Write to database every x commands (higher values save disk access & power).\n",
      "    Values of 1 or less effectively disable caching.\n",
      "HistoryManager.db_log_output=<Bool>\n",
      "    Current: False\n",
      "    Should the history database include output? (default: no)\n",
      "HistoryManager.enabled=<Bool>\n",
      "    Current: True\n",
      "    enable the SQLite history\n",
      "    set enabled=False to disable the SQLite history, in which case there will be\n",
      "    no stored history, no SQLite connection, and no background saving thread.\n",
      "    This may be necessary in some threaded environments where IPython is\n",
      "    embedded.\n",
      "HistoryManager.hist_file=<Unicode>\n",
      "    Current: '/Users/paulrodgers/.ipython/profile_default/history.sqlite'\n",
      "    Path to file to use for SQLite history database.\n",
      "    By default, IPython will put the history database in the IPython profile\n",
      "    directory.  If you would rather share one history among profiles, you can\n",
      "    set this value in each, so that they are consistent.\n",
      "    Due to an issue with fcntl, SQLite is known to misbehave on some NFS mounts.\n",
      "    If you see IPython hanging, try setting this to something on a local disk,\n",
      "    e.g::\n",
      "        ipython --HistoryManager.hist_file=/tmp/ipython_hist.sqlite\n",
      "    you can also use the specific value `:memory:` (including the colon at both\n",
      "    end but not the back ticks), to avoid creating an history file.\n"
     ]
    }
   ],
   "source": [
    "%config HistoryManager"
   ]
  },
  {
   "cell_type": "code",
   "execution_count": 10,
   "metadata": {},
   "outputs": [
    {
     "name": "stdout",
     "output_type": "stream",
     "text": [
      "HistoryManager options\n",
      "--------------------\n",
      "HistoryManager.connection_options=<Dict>\n",
      "    Current: {}\n",
      "    Options for configuring the SQLite connection\n",
      "    These options are passed as keyword args to sqlite3.connect when\n",
      "    establishing database connections.\n",
      "HistoryManager.db_cache_size=<Int>\n",
      "    Current: 0\n",
      "    Write to database every x commands (higher values save disk access & power).\n",
      "    Values of 1 or less effectively disable caching.\n",
      "HistoryManager.db_log_output=<Bool>\n",
      "    Current: False\n",
      "    Should the history database include output? (default: no)\n",
      "HistoryManager.enabled=<Bool>\n",
      "    Current: True\n",
      "    enable the SQLite history\n",
      "    set enabled=False to disable the SQLite history, in which case there will be\n",
      "    no stored history, no SQLite connection, and no background saving thread.\n",
      "    This may be necessary in some threaded environments where IPython is\n",
      "    embedded.\n",
      "HistoryManager.hist_file=<Unicode>\n",
      "    Current: '/Users/paulrodgers/.ipython/profile_default/history.sqlite'\n",
      "    Path to file to use for SQLite history database.\n",
      "    By default, IPython will put the history database in the IPython profile\n",
      "    directory.  If you would rather share one history among profiles, you can\n",
      "    set this value in each, so that they are consistent.\n",
      "    Due to an issue with fcntl, SQLite is known to misbehave on some NFS mounts.\n",
      "    If you see IPython hanging, try setting this to something on a local disk,\n",
      "    e.g::\n",
      "        ipython --HistoryManager.hist_file=/tmp/ipython_hist.sqlite\n",
      "    you can also use the specific value `:memory:` (including the colon at both\n",
      "    end but not the back ticks), to avoid creating an history file.\n"
     ]
    }
   ],
   "source": [
    "%config HistoryManager"
   ]
  },
  {
   "cell_type": "markdown",
   "metadata": {},
   "source": [
    "<a id='Kernel_Intros'></a>Anchor is here"
   ]
  },
  {
   "cell_type": "code",
   "execution_count": 11,
   "metadata": {},
   "outputs": [
    {
     "name": "stderr",
     "output_type": "stream",
     "text": [
      "UsageError: Line magic function `%video` not found.\n"
     ]
    }
   ],
   "source": [
    "%video https://www.youtube.com/watch?v=LTULjd3CwfA"
   ]
  },
  {
   "cell_type": "code",
   "execution_count": 12,
   "metadata": {},
   "outputs": [
    {
     "data": {
      "text/html": [
       "<iframe width=\"560\" height=\"315\" src=\"http://toastytech.com/guis/win1x2xdraw.png\" frameborder=\"0\" allowfullscreen></iframe>"
      ],
      "text/plain": [
       "<IPython.core.display.HTML object>"
      ]
     },
     "execution_count": 12,
     "metadata": {},
     "output_type": "execute_result"
    }
   ],
   "source": [
    "HTML('<iframe width=\"560\" height=\"315\" src=\"http://toastytech.com/guis/win1x2xdraw.png\" frameborder=\"0\" allowfullscreen></iframe>')"
   ]
  },
  {
   "cell_type": "code",
   "execution_count": 13,
   "metadata": {},
   "outputs": [
    {
     "data": {
      "text/html": [
       "<iframe width=\"560\" height=\"315\" src=\"https://www.theatlantic.com/science/archive/2018/04/the-scientific-paper-is-obsolete/556676/\" frameborder=\"0\" allowfullscreen></iframe>"
      ],
      "text/plain": [
       "<IPython.core.display.HTML object>"
      ]
     },
     "execution_count": 13,
     "metadata": {},
     "output_type": "execute_result"
    }
   ],
   "source": [
    "HTML('<iframe width=\"560\" height=\"315\" src=\"https://www.theatlantic.com/science/archive/2018/04/the-scientific-paper-is-obsolete/556676/\" frameborder=\"0\" allowfullscreen></iframe>')"
   ]
  },
  {
   "cell_type": "code",
   "execution_count": 15,
   "metadata": {},
   "outputs": [
    {
     "data": {
      "text/html": [
       "<iframe width=\"560\" height=\"315\" src=\"https://en.wikipedia.org/wiki/PDP-8#/media/File:Digital_pdp8-e2.jpg\" frameborder=\"0\" allowfullscreen></iframe>"
      ],
      "text/plain": [
       "<IPython.core.display.HTML object>"
      ]
     },
     "execution_count": 15,
     "metadata": {},
     "output_type": "execute_result"
    }
   ],
   "source": [
    "HTML('<iframe width=\"560\" height=\"315\" src=\"https://en.wikipedia.org/wiki/PDP-8#/media/File:Digital_pdp8-e2.jpg\" frameborder=\"0\" allowfullscreen></iframe>')"
   ]
  },
  {
   "cell_type": "code",
   "execution_count": null,
   "metadata": {},
   "outputs": [],
   "source": []
  }
 ],
 "metadata": {
  "kernelspec": {
   "display_name": "Python 3",
   "language": "python",
   "name": "python3"
  },
  "language_info": {
   "codemirror_mode": {
    "name": "ipython",
    "version": 3
   },
   "file_extension": ".py",
   "mimetype": "text/x-python",
   "name": "python",
   "nbconvert_exporter": "python",
   "pygments_lexer": "ipython3",
   "version": "3.6.5"
  }
 },
 "nbformat": 4,
 "nbformat_minor": 2
}
