{
 "cells": [
  {
   "cell_type": "markdown",
   "metadata": {},
   "source": [
    "# Introduction to analysis with Jupyter, Python and Pandas  -- Paul Rodgers\n",
    "\n",
    "## Who am I?\n",
    "* Sr. Data Analyst at Virgin Pulse\n",
    "* One of few people to have booted a PDP-8 and a Raspberry Pi\n",
    "* Early adopter\n",
    "  \n",
    "  Windows from 5 1/4\" floppies\n",
    "  Microsoft Certified Professional ~ 180\n",
    "  \n",
    "* Generalist<br>  \n",
    "  Oversaw the architectural design and development of document repository for large scale ( >10^6 document) litigation database<br> \n",
    "  Currently using Python and Pandas for realtime unification of Salesforce and inhouse data stores<br>\n",
    "* Evangelist\n",
    "\n",
    "## What is Jupyter?\n",
    "* Interactive code execution environment\n",
    "* Tells a story \n",
    "  \n",
    "  Allows the use of data, code and rich content  \n",
    "  Enables the author to create a narrative   \n",
    "  Engages the audience  \n",
    "  Increases comprehension\n",
    "  \n",
    "## Who's using Jupyter?\n",
    "* Academics  \n",
    "* Journalists    \n",
    "* Data Scientists\n",
    "* Netfix!!\n",
    "\n",
    "## What is Pandas?\n",
    "* Programmable two dimensional tabular data managment tool (Excel on steroids)\n",
    "* Similar to R dataframes\n",
    "* Leverages Numpy (fast array math)\n",
    "* Top notch CSV importer\n",
    "* RAM based\n",
    "* Rich data manipulation features\n",
    "* Database style joins\n",
    "\n",
    "## Who's using Pandas?\n",
    "* Data Scientists \n",
    "* Financial Analysts (where Pandas was born)\n",
    "\n",
    "## What is Python (in this context)?\n",
    "* Ipython kernel\n",
    "\n",
    "### Jupyter Kernels\n",
    "* __Julia__\n",
    "* __Python__\n",
    "* __R__\n",
    "* Bash\n",
    "* Haskell\n",
    "* Perl\n",
    "* ...\n",
    "\n",
    "## Why Notebooks?\n",
    "* Reproduceability\n",
    "* Sharing\n",
    "* Transparency\n",
    "\n",
    "\n",
    "## This environment\n",
    "* Python\n",
    "* Pandas\n",
    "* Jupyter Lab\n",
    "* Cookiecutter\n",
    "    https://github.com/drivendata/cookiecutter-data-science>\n",
    "* Simple-salesforce\n",
    "\n",
    "\n",
    "## A bit of history (acknowledgments)\n",
    "* 2001 - IPython Fernando Perez creates IPython<br>\n",
    "\n",
    "  Interactive shell  \n",
    "  Features introspection, rich media, shell syntax, tab completion, and history  \n",
    "  Latest stable 7.0 Sept 29,2018\n",
    "  BSD License\n",
    "* Jupyter Foundation\n",
    "  Spun off from Ipython in 2014\n",
    "  Language agnostic \n",
    "  BSD License\n",
    "* 2008 Wes McKinney ntroduces Pandas\n",
    "  BSD License\n",
    "* Python, Pandas and Jupyter are part of SciPy https://www.scipy.org/index.html\n",
    "* All are sponsered projects at NumFOCUS https://numfocus.org/community/mission\n",
    "  \n",
    "\n",
    "\n",
    "## Notebook Server\n",
    "* ZeroMQ for interprocess communications\n",
    "* Tornado for HTTP server\n",
    "\n",
    "## Security\n",
    "* Notebooks are inherently tied to a notebook server\n",
    "* Be definition, one runs arbitrary code on that server\n",
    "* Servers can provide disk access\n",
    "* Servers can be set shell commands\n",
    "* Jupyter OUTPUT is rendered in an exectutable environment (your browser)\n",
    "* Anything that your browser can do, Jupyter output can do\n",
    "\n",
    "## Server Security\n",
    "* Token authentication by default\n",
    "* Server instance token\n",
    "* Browser initialization token\n",
    "\n",
    "## Client Security\n",
    "\n",
    "### Inherent issues\n",
    "\n",
    "### Security Model\n",
    "* User responsibility\n",
    "* Output vs Input\n",
    "* Did the current user direct the action?\n",
    "\n",
    "## Interacting with the notebook\n",
    "\n",
    "## Interacting with the shell\n",
    "\n",
    "## Pandas basics\n",
    "* Series\n",
    "* Dataframe\n",
    "* Index\n",
    "* Data types\n",
    "\n",
    "# Let's get to it!!! \n",
    "\n",
    "## Bringing data into dataframes\n",
    "* csv\n",
    "* json\n",
    "* sql\n",
    "* Salesforce (via simple-salesforce abstraction)\n",
    "\n",
    "#### Examples -- information about the data\n",
    "* Dataframe summary information\n",
    "* Mean, min, max etc.\n",
    "#### Examples -- subsetting data with slicing and  using .loc and .iloc\n",
    "* \\[row:column\\]\n",
    "#### Examples -- filtering data by its characteristics\n",
    "* Row restrictions\n",
    "* Combining row restrictions\n",
    "#### Examples -- combining data\n",
    "\n",
    "* Appending (concatenating) data sets\n",
    "* Merging datasets with sql style joins\n",
    "* Aggregating data\n",
    "\n",
    "\n",
    "# What's in the pipeline?\n",
    "\n",
    "## Netflix\n",
    "* Papermill\n",
    "## Jupyter Lab\n",
    "\n",
    "\n",
    "## Further reading etc.\n",
    "* Atlantic article https://paulromer.net/jupyter-mathematica-and-the-future-of-the-research-paper/\n",
    "* JupyterCon 2018 videos https://www.youtube.com/watch?v=Ql2f1eF52P8&list=PL055Epbe6d5b572IRmYAHkUgcq3y6K3Ae\n",
    "* Reuven Lerner on quick setup of a shared Jupyter server http://blog.lerner.co.il/five-minute-guide-setting-jupyter-notebook-server/\n"
   ]
  },
  {
   "cell_type": "code",
   "execution_count": 5,
   "metadata": {
    "scrolled": true
   },
   "outputs": [
    {
     "name": "stdout",
     "output_type": "stream",
     "text": [
      "Total number of aliases: 12\n"
     ]
    },
    {
     "data": {
      "text/plain": [
       "[('cat', 'cat'),\n",
       " ('cp', 'cp'),\n",
       " ('ldir', 'ls -F -G -l %l | grep /$'),\n",
       " ('lf', 'ls -F -l -G %l | grep ^-'),\n",
       " ('lk', 'ls -F -l -G %l | grep ^l'),\n",
       " ('ll', 'ls -F -l -G'),\n",
       " ('ls', 'ls -F -G'),\n",
       " ('lx', 'ls -F -l -G %l | grep ^-..x'),\n",
       " ('mkdir', 'mkdir'),\n",
       " ('mv', 'mv'),\n",
       " ('rm', 'rm'),\n",
       " ('rmdir', 'rmdir')]"
      ]
     },
     "execution_count": 5,
     "metadata": {},
     "output_type": "execute_result"
    }
   ],
   "source": [
    "%alias"
   ]
  },
  {
   "cell_type": "code",
   "execution_count": 6,
   "metadata": {},
   "outputs": [
    {
     "name": "stdout",
     "output_type": "stream",
     "text": [
      "drwxr-xr-x   3 paulrodgers  staff     96 Jun  4 20:34 __pycache__/\r\n",
      "drwxr-xr-x  10 paulrodgers  staff    320 Jun  1 20:22 data/\r\n",
      "drwxr-xr-x   2 paulrodgers  staff     64 Aug  4 12:27 data_public/\r\n",
      "drwxr-xr-x   4 paulrodgers  staff    128 Jun 11 14:50 notebook/\r\n",
      "drwxr-xr-x  20 paulrodgers  staff    640 Jun 18 21:51 salesforce/\r\n",
      "drwxr-xr-x   9 paulrodgers  staff    288 May 29 23:45 sfdc/\r\n"
     ]
    }
   ],
   "source": [
    "%ldir "
   ]
  },
  {
   "cell_type": "code",
   "execution_count": 7,
   "metadata": {},
   "outputs": [],
   "source": [
    "%colors nocolor"
   ]
  },
  {
   "cell_type": "code",
   "execution_count": 8,
   "metadata": {},
   "outputs": [
    {
     "name": "stdout",
     "output_type": "stream",
     "text": [
      "Available objects for config:\n",
      "     AliasManager\n",
      "     DisplayFormatter\n",
      "     HistoryManager\n",
      "     IPCompleter\n",
      "     IPKernelApp\n",
      "     LoggingMagics\n",
      "     MagicsManager\n",
      "     PrefilterManager\n",
      "     ScriptMagics\n",
      "     StoreMagics\n",
      "     ZMQInteractiveShell\n"
     ]
    }
   ],
   "source": [
    "%config "
   ]
  },
  {
   "cell_type": "code",
   "execution_count": 9,
   "metadata": {},
   "outputs": [
    {
     "name": "stdout",
     "output_type": "stream",
     "text": [
      "HistoryManager options\n",
      "--------------------\n",
      "HistoryManager.connection_options=<Dict>\n",
      "    Current: {}\n",
      "    Options for configuring the SQLite connection\n",
      "    These options are passed as keyword args to sqlite3.connect when\n",
      "    establishing database connections.\n",
      "HistoryManager.db_cache_size=<Int>\n",
      "    Current: 0\n",
      "    Write to database every x commands (higher values save disk access & power).\n",
      "    Values of 1 or less effectively disable caching.\n",
      "HistoryManager.db_log_output=<Bool>\n",
      "    Current: False\n",
      "    Should the history database include output? (default: no)\n",
      "HistoryManager.enabled=<Bool>\n",
      "    Current: True\n",
      "    enable the SQLite history\n",
      "    set enabled=False to disable the SQLite history, in which case there will be\n",
      "    no stored history, no SQLite connection, and no background saving thread.\n",
      "    This may be necessary in some threaded environments where IPython is\n",
      "    embedded.\n",
      "HistoryManager.hist_file=<Unicode>\n",
      "    Current: '/Users/paulrodgers/.ipython/profile_default/history.sqlite'\n",
      "    Path to file to use for SQLite history database.\n",
      "    By default, IPython will put the history database in the IPython profile\n",
      "    directory.  If you would rather share one history among profiles, you can\n",
      "    set this value in each, so that they are consistent.\n",
      "    Due to an issue with fcntl, SQLite is known to misbehave on some NFS mounts.\n",
      "    If you see IPython hanging, try setting this to something on a local disk,\n",
      "    e.g::\n",
      "        ipython --HistoryManager.hist_file=/tmp/ipython_hist.sqlite\n",
      "    you can also use the specific value `:memory:` (including the colon at both\n",
      "    end but not the back ticks), to avoid creating an history file.\n"
     ]
    }
   ],
   "source": [
    "%config HistoryManager"
   ]
  },
  {
   "cell_type": "code",
   "execution_count": 10,
   "metadata": {},
   "outputs": [
    {
     "name": "stdout",
     "output_type": "stream",
     "text": [
      "HistoryManager options\n",
      "--------------------\n",
      "HistoryManager.connection_options=<Dict>\n",
      "    Current: {}\n",
      "    Options for configuring the SQLite connection\n",
      "    These options are passed as keyword args to sqlite3.connect when\n",
      "    establishing database connections.\n",
      "HistoryManager.db_cache_size=<Int>\n",
      "    Current: 0\n",
      "    Write to database every x commands (higher values save disk access & power).\n",
      "    Values of 1 or less effectively disable caching.\n",
      "HistoryManager.db_log_output=<Bool>\n",
      "    Current: False\n",
      "    Should the history database include output? (default: no)\n",
      "HistoryManager.enabled=<Bool>\n",
      "    Current: True\n",
      "    enable the SQLite history\n",
      "    set enabled=False to disable the SQLite history, in which case there will be\n",
      "    no stored history, no SQLite connection, and no background saving thread.\n",
      "    This may be necessary in some threaded environments where IPython is\n",
      "    embedded.\n",
      "HistoryManager.hist_file=<Unicode>\n",
      "    Current: '/Users/paulrodgers/.ipython/profile_default/history.sqlite'\n",
      "    Path to file to use for SQLite history database.\n",
      "    By default, IPython will put the history database in the IPython profile\n",
      "    directory.  If you would rather share one history among profiles, you can\n",
      "    set this value in each, so that they are consistent.\n",
      "    Due to an issue with fcntl, SQLite is known to misbehave on some NFS mounts.\n",
      "    If you see IPython hanging, try setting this to something on a local disk,\n",
      "    e.g::\n",
      "        ipython --HistoryManager.hist_file=/tmp/ipython_hist.sqlite\n",
      "    you can also use the specific value `:memory:` (including the colon at both\n",
      "    end but not the back ticks), to avoid creating an history file.\n"
     ]
    }
   ],
   "source": [
    "%config HistoryManager"
   ]
  },
  {
   "cell_type": "markdown",
   "metadata": {},
   "source": [
    "<a id='Kernel_Intros'></a>Anchor is here"
   ]
  },
  {
   "cell_type": "code",
   "execution_count": 18,
   "metadata": {},
   "outputs": [
    {
     "data": {
      "text/html": [
       "<iframe width=\"560\" height=\"315\" src=\"https://www.youtube.com/embed/S_f2qV2_U00?rel=0&amp;controls=0&amp;showinfo=0\" frameborder=\"0\" allowfullscreen></iframe>"
      ],
      "text/plain": [
       "<IPython.core.display.HTML object>"
      ]
     },
     "execution_count": 18,
     "metadata": {},
     "output_type": "execute_result"
    }
   ],
   "source": [
    "HTML('<iframe width=\"560\" height=\"315\" src=\"https://www.youtube.com/embed/S_f2qV2_U00?rel=0&amp;controls=0&amp;showinfo=0\" frameborder=\"0\" allowfullscreen></iframe>')"
   ]
  },
  {
   "cell_type": "code",
   "execution_count": 12,
   "metadata": {},
   "outputs": [
    {
     "data": {
      "text/html": [
       "<iframe width=\"560\" height=\"315\" src=\"http://toastytech.com/guis/win1x2xdraw.png\" frameborder=\"0\" allowfullscreen></iframe>"
      ],
      "text/plain": [
       "<IPython.core.display.HTML object>"
      ]
     },
     "execution_count": 12,
     "metadata": {},
     "output_type": "execute_result"
    }
   ],
   "source": [
    "HTML('<iframe width=\"560\" height=\"315\" src=\"http://toastytech.com/guis/win1x2xdraw.png\" frameborder=\"0\" allowfullscreen></iframe>')"
   ]
  },
  {
   "cell_type": "code",
   "execution_count": 16,
   "metadata": {},
   "outputs": [
    {
     "data": {
      "text/html": [
       "<iframe width=\"560\" height=\"315\" src=\"https://www.theatlantic.com/science/archive/2018/04/the-scientific-paper-is-obsolete/556676/\" frameborder=\"0\" allowfullscreen></iframe>"
      ],
      "text/plain": [
       "<IPython.core.display.HTML object>"
      ]
     },
     "execution_count": 16,
     "metadata": {},
     "output_type": "execute_result"
    }
   ],
   "source": [
    "HTML('<iframe width=\"560\" height=\"315\" src=\"https://www.theatlantic.com/science/archive/2018/04/the-scientific-paper-is-obsolete/556676/\" frameborder=\"0\" allowfullscreen></iframe>')"
   ]
  },
  {
   "cell_type": "code",
   "execution_count": 15,
   "metadata": {},
   "outputs": [
    {
     "data": {
      "text/html": [
       "<iframe width=\"560\" height=\"315\" src=\"https://en.wikipedia.org/wiki/PDP-8#/media/File:Digital_pdp8-e2.jpg\" frameborder=\"0\" allowfullscreen></iframe>"
      ],
      "text/plain": [
       "<IPython.core.display.HTML object>"
      ]
     },
     "execution_count": 15,
     "metadata": {},
     "output_type": "execute_result"
    }
   ],
   "source": [
    "HTML('<iframe width=\"560\" height=\"315\" src=\"https://en.wikipedia.org/wiki/PDP-8#/media/File:Digital_pdp8-e2.jpg\" frameborder=\"0\" allowfullscreen></iframe>')"
   ]
  },
  {
   "cell_type": "code",
   "execution_count": null,
   "metadata": {},
   "outputs": [],
   "source": []
  }
 ],
 "metadata": {
  "kernelspec": {
   "display_name": "Python 3",
   "language": "python",
   "name": "python3"
  },
  "language_info": {
   "codemirror_mode": {
    "name": "ipython",
    "version": 3
   },
   "file_extension": ".py",
   "mimetype": "text/x-python",
   "name": "python",
   "nbconvert_exporter": "python",
   "pygments_lexer": "ipython3",
   "version": "3.7.0"
  }
 },
 "nbformat": 4,
 "nbformat_minor": 2
}
